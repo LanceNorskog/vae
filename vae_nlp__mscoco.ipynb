{
  "nbformat": 4,
  "nbformat_minor": 0,
  "metadata": {
    "colab": {
      "name": "vae_nlp_ mscoco.ipynb",
      "version": "0.3.2",
      "provenance": [],
      "collapsed_sections": []
    },
    "kernelspec": {
      "name": "python3",
      "display_name": "Python 3"
    },
    "accelerator": "GPU"
  },
  "cells": [
    {
      "metadata": {
        "id": "Eh6jEKTbPHbf",
        "colab_type": "code",
        "outputId": "957b03ca-f804-4803-c9a0-e42da0d1e946",
        "colab": {
          "base_uri": "https://localhost:8080/",
          "height": 51
        }
      },
      "cell_type": "code",
      "source": [
        "!pip install -q tensorflow-hub\n",
        "!pip install -q gensim\n",
        "!pip install -q sklearn\n",
        "!pip install -q matplotlib\n",
        "!apt-get install -qq jq\n",
        "!wget -nc -c https://s3-us-west-1.amazonaws.com/fasttext-vectors/wiki.en.vec"
      ],
      "execution_count": 1,
      "outputs": [
        {
          "output_type": "stream",
          "text": [
            "File ‘wiki.en.vec’ already there; not retrieving.\n",
            "\n"
          ],
          "name": "stdout"
        }
      ]
    },
    {
      "metadata": {
        "id": "nPWVkeCn0_pt",
        "colab_type": "text"
      },
      "cell_type": "markdown",
      "source": [
        "Download and unpack the annotations from the 2014 MSCOCO dataset. This has 100k+ human-entered image captions. Each is a short declarative sentence. \n",
        "\n",
        "This dataset has shallow linguistic depth but a lot of vocabulary.\n",
        "\n",
        "**jq** is a super-fast streaming JSON parser app."
      ]
    },
    {
      "metadata": {
        "id": "xP9UuuEKQM9q",
        "colab_type": "code",
        "colab": {}
      },
      "cell_type": "code",
      "source": [
        "!wget -c -nc -q http://images.cocodataset.org/annotations/annotations_trainval2014.zip\n",
        "!unzip -p annotations_trainval2014.zip annotations/captions_train2014.json > captions_train2014.json\n",
        "!jq -r '.annotations[]|.caption' < captions_train2014.json > sentences.txt"
      ],
      "execution_count": 0,
      "outputs": []
    },
    {
      "metadata": {
        "id": "H9yH0ejlFJXH",
        "colab_type": "code",
        "outputId": "622b21cf-5dad-423f-ba29-a65c0c3ba4cf",
        "colab": {
          "base_uri": "https://localhost:8080/",
          "height": 187
        }
      },
      "cell_type": "code",
      "source": [
        "import pickle\n",
        "import os\n",
        "import itertools\n",
        "import numpy as np\n",
        "from scipy import spatial\n",
        "from scipy.stats import norm\n",
        "from sklearn.decomposition import PCA\n",
        "import nltk.data\n",
        "from nltk import pos_tag\n",
        "from nltk.corpus import wordnet as wn\n",
        "from nltk.corpus import reuters\n",
        "from nltk. corpus import gutenberg\n",
        "from nltk.corpus import brown\n",
        "from nltk.tokenize import sent_tokenize\n",
        "from gensim.models import KeyedVectors\n",
        "from gensim.models import FastText\n",
        "from keras.layers import Input, Dense, Lambda, Layer\n",
        "from keras.optimizers import Adam, Nadam\n",
        "from keras.callbacks import ModelCheckpoint\n",
        "from keras.models import Model\n",
        "from keras import backend as K\n",
        "from keras import metrics\n",
        "import matplotlib.pyplot as plt\n",
        "import seaborn as sns\n",
        "import nltk\n",
        "nltk.download('punkt')\n",
        "nltk.download('brown')\n",
        "nltk.download('reuters')\n",
        "nltk.download('gutenberg')"
      ],
      "execution_count": 3,
      "outputs": [
        {
          "output_type": "stream",
          "text": [
            "Using TensorFlow backend.\n"
          ],
          "name": "stderr"
        },
        {
          "output_type": "stream",
          "text": [
            "[nltk_data] Downloading package punkt to /root/nltk_data...\n",
            "[nltk_data]   Package punkt is already up-to-date!\n",
            "[nltk_data] Downloading package brown to /root/nltk_data...\n",
            "[nltk_data]   Package brown is already up-to-date!\n",
            "[nltk_data] Downloading package reuters to /root/nltk_data...\n",
            "[nltk_data]   Package reuters is already up-to-date!\n",
            "[nltk_data] Downloading package gutenberg to /root/nltk_data...\n",
            "[nltk_data]   Package gutenberg is already up-to-date!\n"
          ],
          "name": "stdout"
        },
        {
          "output_type": "execute_result",
          "data": {
            "text/plain": [
              "True"
            ]
          },
          "metadata": {
            "tags": []
          },
          "execution_count": 3
        }
      ]
    },
    {
      "metadata": {
        "id": "8Ec9vwJMFJXL",
        "colab_type": "text"
      },
      "cell_type": "markdown",
      "source": [
        "# Preprocessing Text"
      ]
    },
    {
      "metadata": {
        "id": "qfUeAb3iFJXM",
        "colab_type": "text"
      },
      "cell_type": "markdown",
      "source": [
        "The preprocessing code is data specific.  \n",
        "  \n",
        "It is an example of how one can use a pre-trained word2vec to embed sentences into a vector space."
      ]
    },
    {
      "metadata": {
        "id": "6R9JKPPMywFh",
        "colab_type": "code",
        "outputId": "e249c4a3-a507-4923-a87e-84f8910e28ea",
        "colab": {
          "base_uri": "https://localhost:8080/",
          "height": 68
        }
      },
      "cell_type": "code",
      "source": [
        "# A little tight on RAM, so parse word2vec, save object to disk, memory-map object back into RAM.\n",
        "# Now the OS can drop the space whenever it is not being read.\n",
        "w2v = None\n",
        "max_words=100000\n",
        "#!rm -f /content/wiki.en.vec.kv\n",
        "!date\n",
        "if not os.path.exists('/content/wiki.en.vec.kv'):\n",
        "    print('Read word2vec vectors from text')\n",
        "    w2v = KeyedVectors.load_word2vec_format('/content/wiki.en.vec', limit=max_words)\n",
        "    print('Save word2vec vectors to cache')\n",
        "    w2v.save('/content/wiki.en.vec.kv')\n",
        "else:\n",
        "    print('Using cached word2vec vectors')\n",
        "    w2v = KeyedVectors.load('/content/wiki.en.vec.kv', mmap='r')\n",
        "!date\n",
        "embedding_size = 300\n",
        "sentence_length = 10"
      ],
      "execution_count": 4,
      "outputs": [
        {
          "output_type": "stream",
          "text": [
            "Mon Dec 17 05:14:55 UTC 2018\n",
            "Using cached word2vec vectors\n",
            "Mon Dec 17 05:14:58 UTC 2018\n"
          ],
          "name": "stdout"
        }
      ]
    },
    {
      "metadata": {
        "id": "VlbYoXzbyv7r",
        "colab_type": "code",
        "outputId": "7e94cd12-1b2d-43e7-a624-5f84814ced21",
        "colab": {
          "base_uri": "https://localhost:8080/",
          "height": 204
        }
      },
      "cell_type": "code",
      "source": [
        "!ls -ld /content\n",
        "!ls -l /content"
      ],
      "execution_count": 5,
      "outputs": [
        {
          "output_type": "stream",
          "text": [
            "drwxr-xr-x 1 root root 4096 Dec 17 03:54 /content\n",
            "total 6993828\n",
            "-rw-r--r-- 1 root root   10942847 Dec 17 03:40 10words.pk\n",
            "-rw-r--r-- 1 root root  252872794 Jul 10 17:58 annotations_trainval2014.zip\n",
            "-rw-r--r-- 1 root root   66782097 Dec 17 05:14 captions_train2014.json\n",
            "-rw-r--r-- 1 root root   86495096 Dec 17 04:04 model.h5\n",
            "drwxr-xr-x 1 root root       4096 Dec 10 17:34 sample_data\n",
            "-rw-r--r-- 1 root root   22159544 Dec 17 05:14 sentences.txt\n",
            "-rw-r--r-- 1 root root 6597238061 May  2  2017 wiki.en.vec\n",
            "-rw-r--r-- 1 root root    5160484 Dec 17 03:40 wiki.en.vec.kv\n",
            "-rw-r--r-- 1 root root  120000128 Dec 17 03:40 wiki.en.vec.kv.vectors.npy\n"
          ],
          "name": "stdout"
        }
      ]
    },
    {
      "metadata": {
        "id": "H6dnQZWYPEbz",
        "colab_type": "text"
      },
      "cell_type": "markdown",
      "source": [
        ""
      ]
    },
    {
      "metadata": {
        "id": "gNYrPq4ZFJXR",
        "colab_type": "code",
        "colab": {}
      },
      "cell_type": "code",
      "source": [
        "def token_sent (text):\n",
        "    strg_cleaned = text.lower()\n",
        "    for x in ['\\xd5d','\\n','\"',\"!\", '#','$','%','&','(',')','*','+',',','-','/',':',';','<','=','>','?','@','[','^',']','_','`','{','|','}','~','\\t']:\n",
        "        strg_cleaned = strg_cleaned.replace(x, '')\n",
        "    sentences = sent_tokenize(strg_cleaned)\n",
        "    return sentences"
      ],
      "execution_count": 0,
      "outputs": []
    },
    {
      "metadata": {
        "id": "J1S7J4beFJXU",
        "colab_type": "code",
        "colab": {}
      },
      "cell_type": "code",
      "source": [
        "def wordify(sentence):\n",
        "    if sentence[-1] == '.':\n",
        "        sentence = sentence[:-1]\n",
        "    byword = sentence.split()\n",
        "    for word in byword:\n",
        "        if not word in w2v:\n",
        "            return None\n",
        "    return byword\n",
        "\n",
        "def vectorize_sentence(sentence):\n",
        "    vector = []\n",
        "    for word in sentence:\n",
        "        vector.append(w2v[word])\n",
        "    return vector\n",
        "        "
      ],
      "execution_count": 0,
      "outputs": []
    },
    {
      "metadata": {
        "id": "_shcpWloFJXY",
        "colab_type": "text"
      },
      "cell_type": "markdown",
      "source": [
        "Preprocessing text from a variety of different sources."
      ]
    },
    {
      "metadata": {
        "id": "VV3aJ1DtFJXf",
        "colab_type": "text"
      },
      "cell_type": "markdown",
      "source": [
        "It's important to shuffle the text vectors before splitting them into test and train samples.   \n",
        "  \n",
        "This is done to avoid clumping text with similar context and style in the dataset because it can confuse the neural network during training.load_word2vec_format"
      ]
    },
    {
      "metadata": {
        "id": "i6B7j_jSFJXb",
        "colab_type": "code",
        "outputId": "f66b4913-0bd9-4a2b-9802-4225091e83e1",
        "colab": {
          "base_uri": "https://localhost:8080/",
          "height": 34
        }
      },
      "cell_type": "code",
      "source": [
        "data_concat = []\n",
        "#!rm -f /content/10words.pk\n",
        "if not os.path.exists('/content/10words.pk'):\n",
        "    data_concat = []\n",
        "    total = 0\n",
        "    found = 0\n",
        "    with open('sentences.txt', 'r') as f:\n",
        "        for line in f:\n",
        "            total += 1\n",
        "            line = line.strip()\n",
        "            if line.count(' ') != 9:\n",
        "                continue\n",
        "            text_array = token_sent(line)\n",
        "            for sentence in text_array:\n",
        "                vect = wordify(sentence)\n",
        "                if vect != None and len(vect) == 10:\n",
        "                    data_concat.append(vect)\n",
        "\n",
        "    with open('/content/10words.pk', 'wb') as f:\n",
        "        pickle.dump(data_concat, f)\n",
        "else:\n",
        "    with open('/content/10words.pk', 'rb') as f:\n",
        "        data_concat = pickle.load(f)\n",
        "print('Total # of 10-word sentences: {}'.format(len(data_concat)))"
      ],
      "execution_count": 8,
      "outputs": [
        {
          "output_type": "stream",
          "text": [
            "Total # of 10-word sentences: 82191\n"
          ],
          "name": "stdout"
        }
      ]
    },
    {
      "metadata": {
        "id": "psRQhbSMFJXg",
        "colab_type": "code",
        "colab": {}
      },
      "cell_type": "code",
      "source": [
        "train = data_concat[10000:]\n",
        "test = data_concat[:10000]\n",
        "np.random.shuffle(train)\n",
        "np.random.shuffle(test)\n",
        "train = np.array(train)\n",
        "test = np.array(test)\n",
        "#del data_concat\n",
        "\n",
        "# sentences = [['a', 'word', ..., 'word'],[...]]\n",
        "def vectorize_batch(sentences):\n",
        "    batch_features = np.zeros((batch_size, embedding_size * len(sentences[0])))\n",
        "    for i in range(batch_size):\n",
        "         batch_features[i] = np.reshape(np.array(vectorize_sentence(sentences[i])), embedding_size * len(sentences[0]))\n",
        "    return batch_features\n",
        "            \n",
        "#add randomization of batch\n",
        "#model.fit_generator(generator(features, labels, batch_size), samples_per_epoch=50, nb_epoch=10\n",
        "def generator(sentences, batch_size):\n",
        "    index = 0\n",
        "    while True:\n",
        "        batch_features = np.zeros((batch_size, embedding_size * len(sentences[0])))\n",
        "        for i in range(batch_size):\n",
        "            batch_features[i] = np.reshape(np.array(vectorize_sentence(sentences[index + i])), embedding_size * len(sentences[0]))\n",
        "        index += batch_size\n",
        "        if index >= len(sentences):\n",
        "            index = 0\n",
        "        yield batch_features, batch_features\n",
        "        "
      ],
      "execution_count": 0,
      "outputs": []
    },
    {
      "metadata": {
        "id": "LLG9zMP0FJXn",
        "colab_type": "text"
      },
      "cell_type": "markdown",
      "source": [
        "# Variational Autoencoder"
      ]
    },
    {
      "metadata": {
        "id": "WeRvlWKqFJXo",
        "colab_type": "code",
        "outputId": "6842ef00-677b-4d57-9c5a-179754ae9c56",
        "colab": {
          "base_uri": "https://localhost:8080/",
          "height": 17459
        }
      },
      "cell_type": "code",
      "source": [
        "batch_size = 500\n",
        "original_dim = 3000\n",
        "latent_dim = 1000\n",
        "intermediate_dim = 1200\n",
        "epochs=250\n",
        "epsilon_std = 1.0\n",
        "learning_rate = 0.001\n",
        "opt = Nadam(lr=learning_rate)\n",
        "\n",
        "\n",
        "# Can only train on batch_size modulo data\n",
        "train = train[:(len(train) // batch_size) * batch_size]\n",
        "test = test[:(len(test) // batch_size) * batch_size]\n",
        "\n",
        "x = Input(batch_shape=(batch_size, original_dim))\n",
        "h = Dense(intermediate_dim, activation='relu')(x)\n",
        "z_mean = Dense(latent_dim)(h)\n",
        "z_log_var = Dense(latent_dim)(h)\n",
        "\n",
        "def sampling(args):\n",
        "    z_mean, z_log_var = args\n",
        "    epsilon = K.random_normal(shape=(batch_size, latent_dim), mean=0.,\n",
        "                              stddev=epsilon_std)\n",
        "    return z_mean + K.exp(z_log_var / 2) * epsilon\n",
        "\n",
        "# note that \"output_shape\" isn't necessary with the TensorFlow backend\n",
        "z = Lambda(sampling, output_shape=(latent_dim,))([z_mean, z_log_var])\n",
        "\n",
        "# we instantiate these layers separately so as to reuse them later\n",
        "decoder_h = Dense(intermediate_dim, activation='relu')\n",
        "decoder_mean = Dense(original_dim, activation='sigmoid')\n",
        "h_decoded = decoder_h(z)\n",
        "x_decoded_mean = decoder_mean(h_decoded)\n",
        "\n",
        "# placeholder loss\n",
        "def zero_loss(y_true, y_pred):\n",
        "    return K.zeros_like(y_pred)\n",
        "\n",
        "# KL loss as an accuracy measure\n",
        "def kl_acc(x, x_decoded_mean):\n",
        "    return -0.5 + K.sum(1 + z_log_var - K.square(z_mean) - K.exp(z_log_var), axis=-1)/original_dim\n",
        "\n",
        "# Custom loss layer\n",
        "class CustomVariationalLayer(Layer):\n",
        "    def __init__(self, **kwargs):\n",
        "        self.is_placeholder = True\n",
        "        super(CustomVariationalLayer, self).__init__(**kwargs)\n",
        "        \n",
        "    def vae_loss(self, x, x_decoded_mean):\n",
        "        xent_loss = metrics.binary_crossentropy(x, x_decoded_mean)\n",
        "        kl_loss = - 0.5 * K.sum(1 + z_log_var - K.square(z_mean) - K.exp(z_log_var), axis=-1)\n",
        "        return K.mean(original_dim * xent_loss + kl_loss)\n",
        "\n",
        "    def call(self, inputs):\n",
        "        x = inputs[0]\n",
        "        x_decoded_mean = inputs[1]\n",
        "        loss = self.vae_loss(x, x_decoded_mean)\n",
        "        self.add_loss(loss, inputs=inputs)\n",
        "        # we don't use this output, but it has to have the correct shape:\n",
        "        return K.ones_like(x)\n",
        "\n",
        "loss_layer = CustomVariationalLayer()([x, x_decoded_mean])\n",
        "vae = Model(x, [loss_layer])\n",
        "vae.compile(optimizer='rmsprop', loss=[zero_loss], metrics=[kl_acc])\n",
        "vae.summary()\n",
        "\n",
        "#checkpoint\n",
        "cp = [ModelCheckpoint(filepath=\"/content/model.h5\", verbose=1, save_best_only=True)]\n",
        "\n",
        "print('Training with {} training samples, {} test samples'.format(len(train), len(test)))\n",
        "#train\n",
        "!rm -f /content/model.h5\n",
        "if os.path.exists('/content/model.h5'):\n",
        "    vae.load_weights('/content/model.h5')\n",
        "    history = None\n",
        "else:\n",
        "    history = vae.fit_generator(generator(train, batch_size),\n",
        "        shuffle=True,\n",
        "        epochs=epochs,\n",
        "        steps_per_epoch=len(train)/batch_size,\n",
        "        validation_steps=len(test)/batch_size,\n",
        "        verbose=2,\n",
        "        validation_data=generator(test, batch_size), \n",
        "        callbacks=cp)\n",
        "\n",
        "# build a model to project inputs on the latent space\n",
        "encoder = Model(x, z_mean)\n",
        "\n",
        "# build a generator that can sample from the learned distribution\n",
        "decoder_input = Input(shape=(latent_dim,))\n",
        "_h_decoded = decoder_h(decoder_input)\n",
        "_x_decoded_mean = decoder_mean(_h_decoded)\n",
        "generator = Model(decoder_input, _x_decoded_mean)"
      ],
      "execution_count": 13,
      "outputs": [
        {
          "output_type": "stream",
          "text": [
            "__________________________________________________________________________________________________\n",
            "Layer (type)                    Output Shape         Param #     Connected to                     \n",
            "==================================================================================================\n",
            "input_4 (InputLayer)            (500, 3000)          0                                            \n",
            "__________________________________________________________________________________________________\n",
            "dense_16 (Dense)                (500, 1200)          3601200     input_4[0][0]                    \n",
            "__________________________________________________________________________________________________\n",
            "dense_17 (Dense)                (500, 1000)          1201000     dense_16[0][0]                   \n",
            "__________________________________________________________________________________________________\n",
            "dense_18 (Dense)                (500, 1000)          1201000     dense_16[0][0]                   \n",
            "__________________________________________________________________________________________________\n",
            "lambda_4 (Lambda)               (500, 1000)          0           dense_17[0][0]                   \n",
            "                                                                 dense_18[0][0]                   \n",
            "__________________________________________________________________________________________________\n",
            "dense_19 (Dense)                (500, 1200)          1201200     lambda_4[0][0]                   \n",
            "__________________________________________________________________________________________________\n",
            "dense_20 (Dense)                (500, 3000)          3603000     dense_19[0][0]                   \n",
            "__________________________________________________________________________________________________\n",
            "custom_variational_layer_4 (Cus [(500, 3000), (500,  0           input_4[0][0]                    \n",
            "                                                                 dense_20[0][0]                   \n",
            "==================================================================================================\n",
            "Total params: 10,807,400\n",
            "Trainable params: 10,807,400\n",
            "Non-trainable params: 0\n",
            "__________________________________________________________________________________________________\n",
            "Training with 72000 training samples, 10000 test samples\n",
            "Epoch 1/250\n",
            " - 12s - loss: -1.3000e+03 - kl_acc: -5.1932e-01 - val_loss: -1.4912e+03 - val_kl_acc: -5.0128e-01\n",
            "\n",
            "Epoch 00001: val_loss improved from inf to -1491.22424, saving model to /content/model.h5\n",
            "Epoch 2/250\n",
            " - 11s - loss: -1.5134e+03 - kl_acc: -5.0946e-01 - val_loss: -1.5751e+03 - val_kl_acc: -5.1328e-01\n",
            "\n",
            "Epoch 00002: val_loss improved from -1491.22424 to -1575.10099, saving model to /content/model.h5\n",
            "Epoch 3/250\n",
            " - 12s - loss: -1.5823e+03 - kl_acc: -5.1787e-01 - val_loss: -1.6284e+03 - val_kl_acc: -5.2040e-01\n",
            "\n",
            "Epoch 00003: val_loss improved from -1575.10099 to -1628.41628, saving model to /content/model.h5\n",
            "Epoch 4/250\n",
            " - 12s - loss: -1.6260e+03 - kl_acc: -5.2429e-01 - val_loss: -1.6634e+03 - val_kl_acc: -5.2583e-01\n",
            "\n",
            "Epoch 00004: val_loss improved from -1628.41628 to -1663.40386, saving model to /content/model.h5\n",
            "Epoch 5/250\n",
            " - 12s - loss: -1.6627e+03 - kl_acc: -5.2986e-01 - val_loss: -1.6920e+03 - val_kl_acc: -5.3092e-01\n",
            "\n",
            "Epoch 00005: val_loss improved from -1663.40386 to -1692.02555, saving model to /content/model.h5\n",
            "Epoch 6/250\n",
            " - 12s - loss: -1.6946e+03 - kl_acc: -5.3481e-01 - val_loss: -1.7188e+03 - val_kl_acc: -5.3603e-01\n",
            "\n",
            "Epoch 00006: val_loss improved from -1692.02555 to -1718.81290, saving model to /content/model.h5\n",
            "Epoch 7/250\n",
            " - 12s - loss: -1.7240e+03 - kl_acc: -5.3918e-01 - val_loss: -1.7418e+03 - val_kl_acc: -5.3902e-01\n",
            "\n",
            "Epoch 00007: val_loss improved from -1718.81290 to -1741.76219, saving model to /content/model.h5\n",
            "Epoch 8/250\n",
            " - 12s - loss: -1.7505e+03 - kl_acc: -5.4300e-01 - val_loss: -1.7672e+03 - val_kl_acc: -5.4082e-01\n",
            "\n",
            "Epoch 00008: val_loss improved from -1741.76219 to -1767.18368, saving model to /content/model.h5\n",
            "Epoch 9/250\n",
            " - 12s - loss: -1.7735e+03 - kl_acc: -5.4646e-01 - val_loss: -1.7798e+03 - val_kl_acc: -5.4757e-01\n",
            "\n",
            "Epoch 00009: val_loss improved from -1767.18368 to -1779.80292, saving model to /content/model.h5\n",
            "Epoch 10/250\n",
            " - 12s - loss: -1.7938e+03 - kl_acc: -5.4960e-01 - val_loss: -1.8016e+03 - val_kl_acc: -5.4571e-01\n",
            "\n",
            "Epoch 00010: val_loss improved from -1779.80292 to -1801.60545, saving model to /content/model.h5\n",
            "Epoch 11/250\n",
            " - 12s - loss: -1.8131e+03 - kl_acc: -5.5243e-01 - val_loss: -1.8158e+03 - val_kl_acc: -5.5339e-01\n",
            "\n",
            "Epoch 00011: val_loss improved from -1801.60545 to -1815.79144, saving model to /content/model.h5\n",
            "Epoch 12/250\n",
            " - 12s - loss: -1.8305e+03 - kl_acc: -5.5494e-01 - val_loss: -1.8313e+03 - val_kl_acc: -5.5252e-01\n",
            "\n",
            "Epoch 00012: val_loss improved from -1815.79144 to -1831.32526, saving model to /content/model.h5\n",
            "Epoch 13/250\n",
            " - 12s - loss: -1.8452e+03 - kl_acc: -5.5728e-01 - val_loss: -1.8442e+03 - val_kl_acc: -5.5188e-01\n",
            "\n",
            "Epoch 00013: val_loss improved from -1831.32526 to -1844.15764, saving model to /content/model.h5\n",
            "Epoch 14/250\n",
            " - 12s - loss: -1.8590e+03 - kl_acc: -5.5932e-01 - val_loss: -1.8536e+03 - val_kl_acc: -5.5635e-01\n",
            "\n",
            "Epoch 00014: val_loss improved from -1844.15764 to -1853.56842, saving model to /content/model.h5\n",
            "Epoch 15/250\n",
            " - 12s - loss: -1.8728e+03 - kl_acc: -5.6126e-01 - val_loss: -1.8674e+03 - val_kl_acc: -5.5530e-01\n",
            "\n",
            "Epoch 00015: val_loss improved from -1853.56842 to -1867.42550, saving model to /content/model.h5\n",
            "Epoch 16/250\n",
            " - 12s - loss: -1.8862e+03 - kl_acc: -5.6287e-01 - val_loss: -1.8801e+03 - val_kl_acc: -5.6219e-01\n",
            "\n",
            "Epoch 00016: val_loss improved from -1867.42550 to -1880.06323, saving model to /content/model.h5\n",
            "Epoch 17/250\n",
            " - 12s - loss: -1.8991e+03 - kl_acc: -5.6441e-01 - val_loss: -1.8910e+03 - val_kl_acc: -5.6042e-01\n",
            "\n",
            "Epoch 00017: val_loss improved from -1880.06323 to -1891.01439, saving model to /content/model.h5\n",
            "Epoch 18/250\n",
            " - 12s - loss: -1.9121e+03 - kl_acc: -5.6592e-01 - val_loss: -1.9023e+03 - val_kl_acc: -5.5922e-01\n",
            "\n",
            "Epoch 00018: val_loss improved from -1891.01439 to -1902.27194, saving model to /content/model.h5\n",
            "Epoch 19/250\n",
            " - 12s - loss: -1.9246e+03 - kl_acc: -5.6709e-01 - val_loss: -1.9094e+03 - val_kl_acc: -5.6499e-01\n",
            "\n",
            "Epoch 00019: val_loss improved from -1902.27194 to -1909.39458, saving model to /content/model.h5\n",
            "Epoch 20/250\n",
            " - 12s - loss: -1.9350e+03 - kl_acc: -5.6821e-01 - val_loss: -1.9231e+03 - val_kl_acc: -5.6437e-01\n",
            "\n",
            "Epoch 00020: val_loss improved from -1909.39458 to -1923.12139, saving model to /content/model.h5\n",
            "Epoch 21/250\n",
            " - 12s - loss: -1.9457e+03 - kl_acc: -5.6916e-01 - val_loss: -1.9315e+03 - val_kl_acc: -5.6887e-01\n",
            "\n",
            "Epoch 00021: val_loss improved from -1923.12139 to -1931.47459, saving model to /content/model.h5\n",
            "Epoch 22/250\n",
            " - 12s - loss: -1.9558e+03 - kl_acc: -5.7014e-01 - val_loss: -1.9387e+03 - val_kl_acc: -5.6609e-01\n",
            "\n",
            "Epoch 00022: val_loss improved from -1931.47459 to -1938.74727, saving model to /content/model.h5\n",
            "Epoch 23/250\n",
            " - 12s - loss: -1.9652e+03 - kl_acc: -5.7087e-01 - val_loss: -1.9496e+03 - val_kl_acc: -5.6509e-01\n",
            "\n",
            "Epoch 00023: val_loss improved from -1938.74727 to -1949.57461, saving model to /content/model.h5\n",
            "Epoch 24/250\n",
            " - 12s - loss: -1.9745e+03 - kl_acc: -5.7160e-01 - val_loss: -1.9530e+03 - val_kl_acc: -5.7196e-01\n",
            "\n",
            "Epoch 00024: val_loss improved from -1949.57461 to -1953.02048, saving model to /content/model.h5\n",
            "Epoch 25/250\n",
            " - 12s - loss: -1.9834e+03 - kl_acc: -5.7223e-01 - val_loss: -1.9622e+03 - val_kl_acc: -5.6946e-01\n",
            "\n",
            "Epoch 00025: val_loss improved from -1953.02048 to -1962.19715, saving model to /content/model.h5\n",
            "Epoch 26/250\n",
            " - 12s - loss: -1.9947e+03 - kl_acc: -5.7279e-01 - val_loss: -1.9653e+03 - val_kl_acc: -5.7538e-01\n",
            "\n",
            "Epoch 00026: val_loss improved from -1962.19715 to -1965.27802, saving model to /content/model.h5\n",
            "Epoch 27/250\n",
            " - 12s - loss: -2.0047e+03 - kl_acc: -5.7346e-01 - val_loss: -1.9785e+03 - val_kl_acc: -5.6658e-01\n",
            "\n",
            "Epoch 00027: val_loss improved from -1965.27802 to -1978.50251, saving model to /content/model.h5\n",
            "Epoch 28/250\n",
            " - 12s - loss: -2.0137e+03 - kl_acc: -5.7393e-01 - val_loss: -1.9838e+03 - val_kl_acc: -5.7596e-01\n",
            "\n",
            "Epoch 00028: val_loss improved from -1978.50251 to -1983.82672, saving model to /content/model.h5\n",
            "Epoch 29/250\n",
            " - 12s - loss: -2.0222e+03 - kl_acc: -5.7441e-01 - val_loss: -1.9929e+03 - val_kl_acc: -5.6936e-01\n",
            "\n",
            "Epoch 00029: val_loss improved from -1983.82672 to -1992.88445, saving model to /content/model.h5\n",
            "Epoch 30/250\n",
            " - 12s - loss: -2.0314e+03 - kl_acc: -5.7486e-01 - val_loss: -2.0049e+03 - val_kl_acc: -5.7206e-01\n",
            "\n",
            "Epoch 00030: val_loss improved from -1992.88445 to -2004.89085, saving model to /content/model.h5\n",
            "Epoch 31/250\n",
            " - 12s - loss: -2.0400e+03 - kl_acc: -5.7520e-01 - val_loss: -2.0099e+03 - val_kl_acc: -5.7271e-01\n",
            "\n",
            "Epoch 00031: val_loss improved from -2004.89085 to -2009.93922, saving model to /content/model.h5\n",
            "Epoch 32/250\n",
            " - 12s - loss: -2.0483e+03 - kl_acc: -5.7555e-01 - val_loss: -2.0168e+03 - val_kl_acc: -5.7336e-01\n",
            "\n",
            "Epoch 00032: val_loss improved from -2009.93922 to -2016.79445, saving model to /content/model.h5\n",
            "Epoch 33/250\n",
            " - 12s - loss: -2.0573e+03 - kl_acc: -5.7591e-01 - val_loss: -2.0197e+03 - val_kl_acc: -5.6995e-01\n",
            "\n",
            "Epoch 00033: val_loss improved from -2016.79445 to -2019.68851, saving model to /content/model.h5\n",
            "Epoch 34/250\n",
            " - 12s - loss: -2.0649e+03 - kl_acc: -5.7621e-01 - val_loss: -2.0273e+03 - val_kl_acc: -5.7545e-01\n",
            "\n",
            "Epoch 00034: val_loss improved from -2019.68851 to -2027.28494, saving model to /content/model.h5\n",
            "Epoch 35/250\n",
            " - 12s - loss: -2.0719e+03 - kl_acc: -5.7661e-01 - val_loss: -2.0359e+03 - val_kl_acc: -5.7032e-01\n",
            "\n",
            "Epoch 00035: val_loss improved from -2027.28494 to -2035.86765, saving model to /content/model.h5\n",
            "Epoch 36/250\n",
            " - 12s - loss: -2.0796e+03 - kl_acc: -5.7674e-01 - val_loss: -2.0371e+03 - val_kl_acc: -5.7639e-01\n",
            "\n",
            "Epoch 00036: val_loss improved from -2035.86765 to -2037.07146, saving model to /content/model.h5\n",
            "Epoch 37/250\n",
            " - 12s - loss: -2.0863e+03 - kl_acc: -5.7695e-01 - val_loss: -2.0428e+03 - val_kl_acc: -5.7792e-01\n",
            "\n",
            "Epoch 00037: val_loss improved from -2037.07146 to -2042.75250, saving model to /content/model.h5\n",
            "Epoch 38/250\n",
            " - 12s - loss: -2.0932e+03 - kl_acc: -5.7709e-01 - val_loss: -2.0439e+03 - val_kl_acc: -5.7960e-01\n",
            "\n",
            "Epoch 00038: val_loss improved from -2042.75250 to -2043.86917, saving model to /content/model.h5\n",
            "Epoch 39/250\n",
            " - 12s - loss: -2.0994e+03 - kl_acc: -5.7736e-01 - val_loss: -2.0567e+03 - val_kl_acc: -5.7060e-01\n",
            "\n",
            "Epoch 00039: val_loss improved from -2043.86917 to -2056.69142, saving model to /content/model.h5\n",
            "Epoch 40/250\n",
            " - 12s - loss: -2.1053e+03 - kl_acc: -5.7755e-01 - val_loss: -2.0625e+03 - val_kl_acc: -5.7528e-01\n",
            "\n",
            "Epoch 00040: val_loss improved from -2056.69142 to -2062.52878, saving model to /content/model.h5\n",
            "Epoch 41/250\n",
            " - 13s - loss: -2.1110e+03 - kl_acc: -5.7759e-01 - val_loss: -2.0671e+03 - val_kl_acc: -5.7286e-01\n",
            "\n",
            "Epoch 00041: val_loss improved from -2062.52878 to -2067.12146, saving model to /content/model.h5\n",
            "Epoch 42/250\n",
            " - 12s - loss: -2.1165e+03 - kl_acc: -5.7779e-01 - val_loss: -2.0719e+03 - val_kl_acc: -5.7224e-01\n",
            "\n",
            "Epoch 00042: val_loss improved from -2067.12146 to -2071.86990, saving model to /content/model.h5\n",
            "Epoch 43/250\n",
            " - 13s - loss: -2.1222e+03 - kl_acc: -5.7783e-01 - val_loss: -2.0762e+03 - val_kl_acc: -5.7740e-01\n",
            "\n",
            "Epoch 00043: val_loss improved from -2071.86990 to -2076.22582, saving model to /content/model.h5\n",
            "Epoch 44/250\n",
            " - 12s - loss: -2.1280e+03 - kl_acc: -5.7798e-01 - val_loss: -2.0812e+03 - val_kl_acc: -5.7471e-01\n",
            "\n",
            "Epoch 00044: val_loss improved from -2076.22582 to -2081.18793, saving model to /content/model.h5\n",
            "Epoch 45/250\n",
            " - 13s - loss: -2.1347e+03 - kl_acc: -5.7822e-01 - val_loss: -2.0854e+03 - val_kl_acc: -5.7784e-01\n",
            "\n",
            "Epoch 00045: val_loss improved from -2081.18793 to -2085.36510, saving model to /content/model.h5\n",
            "Epoch 46/250\n",
            " - 13s - loss: -2.1415e+03 - kl_acc: -5.7839e-01 - val_loss: -2.0926e+03 - val_kl_acc: -5.7485e-01\n",
            "\n",
            "Epoch 00046: val_loss improved from -2085.36510 to -2092.55952, saving model to /content/model.h5\n",
            "Epoch 47/250\n",
            " - 12s - loss: -2.1478e+03 - kl_acc: -5.7858e-01 - val_loss: -2.0971e+03 - val_kl_acc: -5.7325e-01\n",
            "\n",
            "Epoch 00047: val_loss improved from -2092.55952 to -2097.09059, saving model to /content/model.h5\n",
            "Epoch 48/250\n",
            " - 12s - loss: -2.1537e+03 - kl_acc: -5.7880e-01 - val_loss: -2.1012e+03 - val_kl_acc: -5.7835e-01\n",
            "\n",
            "Epoch 00048: val_loss improved from -2097.09059 to -2101.24822, saving model to /content/model.h5\n",
            "Epoch 49/250\n",
            " - 13s - loss: -2.1596e+03 - kl_acc: -5.7890e-01 - val_loss: -2.0937e+03 - val_kl_acc: -5.8236e-01\n",
            "\n",
            "Epoch 00049: val_loss did not improve from -2101.24822\n",
            "Epoch 50/250\n",
            " - 12s - loss: -2.1652e+03 - kl_acc: -5.7900e-01 - val_loss: -2.1069e+03 - val_kl_acc: -5.7933e-01\n",
            "\n",
            "Epoch 00050: val_loss improved from -2101.24822 to -2106.92051, saving model to /content/model.h5\n",
            "Epoch 51/250\n",
            " - 12s - loss: -2.1703e+03 - kl_acc: -5.7922e-01 - val_loss: -2.1169e+03 - val_kl_acc: -5.7563e-01\n",
            "\n",
            "Epoch 00051: val_loss improved from -2106.92051 to -2116.92461, saving model to /content/model.h5\n",
            "Epoch 52/250\n",
            " - 12s - loss: -2.1756e+03 - kl_acc: -5.7928e-01 - val_loss: -2.1202e+03 - val_kl_acc: -5.7830e-01\n",
            "\n",
            "Epoch 00052: val_loss improved from -2116.92461 to -2120.17357, saving model to /content/model.h5\n",
            "Epoch 53/250\n",
            " - 12s - loss: -2.1804e+03 - kl_acc: -5.7940e-01 - val_loss: -2.1249e+03 - val_kl_acc: -5.7392e-01\n",
            "\n",
            "Epoch 00053: val_loss improved from -2120.17357 to -2124.86034, saving model to /content/model.h5\n",
            "Epoch 54/250\n",
            " - 12s - loss: -2.1847e+03 - kl_acc: -5.7963e-01 - val_loss: -2.1222e+03 - val_kl_acc: -5.7999e-01\n",
            "\n",
            "Epoch 00054: val_loss did not improve from -2124.86034\n",
            "Epoch 55/250\n",
            " - 12s - loss: -2.1900e+03 - kl_acc: -5.7972e-01 - val_loss: -2.1308e+03 - val_kl_acc: -5.7362e-01\n",
            "\n",
            "Epoch 00055: val_loss improved from -2124.86034 to -2130.83512, saving model to /content/model.h5\n",
            "Epoch 56/250\n",
            " - 12s - loss: -2.1945e+03 - kl_acc: -5.7981e-01 - val_loss: -2.1288e+03 - val_kl_acc: -5.7317e-01\n",
            "\n",
            "Epoch 00056: val_loss did not improve from -2130.83512\n",
            "Epoch 57/250\n",
            " - 12s - loss: -2.1995e+03 - kl_acc: -5.7995e-01 - val_loss: -2.1384e+03 - val_kl_acc: -5.7906e-01\n",
            "\n",
            "Epoch 00057: val_loss improved from -2130.83512 to -2138.39003, saving model to /content/model.h5\n",
            "Epoch 58/250\n",
            " - 12s - loss: -2.2053e+03 - kl_acc: -5.8004e-01 - val_loss: -2.1397e+03 - val_kl_acc: -5.7425e-01\n",
            "\n",
            "Epoch 00058: val_loss improved from -2138.39003 to -2139.69207, saving model to /content/model.h5\n",
            "Epoch 59/250\n",
            " - 12s - loss: -2.2102e+03 - kl_acc: -5.8016e-01 - val_loss: -2.1440e+03 - val_kl_acc: -5.7374e-01\n",
            "\n",
            "Epoch 00059: val_loss improved from -2139.69207 to -2143.97578, saving model to /content/model.h5\n",
            "Epoch 60/250\n",
            " - 12s - loss: -2.2155e+03 - kl_acc: -5.8030e-01 - val_loss: -2.1461e+03 - val_kl_acc: -5.8262e-01\n",
            "\n",
            "Epoch 00060: val_loss improved from -2143.97578 to -2146.06287, saving model to /content/model.h5\n",
            "Epoch 61/250\n",
            " - 12s - loss: -2.2202e+03 - kl_acc: -5.8054e-01 - val_loss: -2.1542e+03 - val_kl_acc: -5.7576e-01\n",
            "\n",
            "Epoch 00061: val_loss improved from -2146.06287 to -2154.24915, saving model to /content/model.h5\n",
            "Epoch 62/250\n",
            " - 12s - loss: -2.2246e+03 - kl_acc: -5.8060e-01 - val_loss: -2.1537e+03 - val_kl_acc: -5.7796e-01\n",
            "\n",
            "Epoch 00062: val_loss did not improve from -2154.24915\n",
            "Epoch 63/250\n",
            " - 12s - loss: -2.2297e+03 - kl_acc: -5.8071e-01 - val_loss: -2.1565e+03 - val_kl_acc: -5.7449e-01\n",
            "\n",
            "Epoch 00063: val_loss improved from -2154.24915 to -2156.49203, saving model to /content/model.h5\n",
            "Epoch 64/250\n",
            " - 12s - loss: -2.2338e+03 - kl_acc: -5.8081e-01 - val_loss: -2.1615e+03 - val_kl_acc: -5.8169e-01\n",
            "\n",
            "Epoch 00064: val_loss improved from -2156.49203 to -2161.53224, saving model to /content/model.h5\n",
            "Epoch 65/250\n",
            " - 13s - loss: -2.2378e+03 - kl_acc: -5.8094e-01 - val_loss: -2.1694e+03 - val_kl_acc: -5.7587e-01\n",
            "\n",
            "Epoch 00065: val_loss improved from -2161.53224 to -2169.39335, saving model to /content/model.h5\n",
            "Epoch 66/250\n",
            " - 12s - loss: -2.2421e+03 - kl_acc: -5.8104e-01 - val_loss: -2.1731e+03 - val_kl_acc: -5.8081e-01\n",
            "\n",
            "Epoch 00066: val_loss improved from -2169.39335 to -2173.13406, saving model to /content/model.h5\n",
            "Epoch 67/250\n",
            " - 12s - loss: -2.2466e+03 - kl_acc: -5.8122e-01 - val_loss: -2.1757e+03 - val_kl_acc: -5.7783e-01\n",
            "\n",
            "Epoch 00067: val_loss improved from -2173.13406 to -2175.73135, saving model to /content/model.h5\n",
            "Epoch 68/250\n",
            " - 13s - loss: -2.2504e+03 - kl_acc: -5.8137e-01 - val_loss: -2.1758e+03 - val_kl_acc: -5.8132e-01\n",
            "\n",
            "Epoch 00068: val_loss improved from -2175.73135 to -2175.82302, saving model to /content/model.h5\n",
            "Epoch 69/250\n",
            " - 12s - loss: -2.2545e+03 - kl_acc: -5.8149e-01 - val_loss: -2.1778e+03 - val_kl_acc: -5.8113e-01\n",
            "\n",
            "Epoch 00069: val_loss improved from -2175.82302 to -2177.77235, saving model to /content/model.h5\n",
            "Epoch 70/250\n",
            " - 12s - loss: -2.2580e+03 - kl_acc: -5.8164e-01 - val_loss: -2.1804e+03 - val_kl_acc: -5.7564e-01\n",
            "\n",
            "Epoch 00070: val_loss improved from -2177.77235 to -2180.43983, saving model to /content/model.h5\n",
            "Epoch 71/250\n",
            " - 13s - loss: -2.2619e+03 - kl_acc: -5.8169e-01 - val_loss: -2.1812e+03 - val_kl_acc: -5.8237e-01\n",
            "\n",
            "Epoch 00071: val_loss improved from -2180.43983 to -2181.20229, saving model to /content/model.h5\n",
            "Epoch 72/250\n",
            " - 12s - loss: -2.2659e+03 - kl_acc: -5.8175e-01 - val_loss: -2.1882e+03 - val_kl_acc: -5.8212e-01\n",
            "\n",
            "Epoch 00072: val_loss improved from -2181.20229 to -2188.23030, saving model to /content/model.h5\n",
            "Epoch 73/250\n",
            " - 12s - loss: -2.2685e+03 - kl_acc: -5.8202e-01 - val_loss: -2.1931e+03 - val_kl_acc: -5.7758e-01\n",
            "\n",
            "Epoch 00073: val_loss improved from -2188.23030 to -2193.06024, saving model to /content/model.h5\n",
            "Epoch 74/250\n",
            " - 12s - loss: -2.2721e+03 - kl_acc: -5.8211e-01 - val_loss: -2.1899e+03 - val_kl_acc: -5.8379e-01\n",
            "\n",
            "Epoch 00074: val_loss did not improve from -2193.06024\n",
            "Epoch 75/250\n",
            " - 12s - loss: -2.2758e+03 - kl_acc: -5.8223e-01 - val_loss: -2.1981e+03 - val_kl_acc: -5.8246e-01\n",
            "\n",
            "Epoch 00075: val_loss improved from -2193.06024 to -2198.11863, saving model to /content/model.h5\n",
            "Epoch 76/250\n",
            " - 12s - loss: -2.2793e+03 - kl_acc: -5.8238e-01 - val_loss: -2.2017e+03 - val_kl_acc: -5.7830e-01\n",
            "\n",
            "Epoch 00076: val_loss improved from -2198.11863 to -2201.74186, saving model to /content/model.h5\n",
            "Epoch 77/250\n",
            " - 12s - loss: -2.2822e+03 - kl_acc: -5.8251e-01 - val_loss: -2.1975e+03 - val_kl_acc: -5.7672e-01\n",
            "\n",
            "Epoch 00077: val_loss did not improve from -2201.74186\n",
            "Epoch 78/250\n",
            " - 12s - loss: -2.2852e+03 - kl_acc: -5.8260e-01 - val_loss: -2.2048e+03 - val_kl_acc: -5.8333e-01\n",
            "\n",
            "Epoch 00078: val_loss improved from -2201.74186 to -2204.82601, saving model to /content/model.h5\n",
            "Epoch 79/250\n",
            " - 12s - loss: -2.2890e+03 - kl_acc: -5.8269e-01 - val_loss: -2.1973e+03 - val_kl_acc: -5.8520e-01\n",
            "\n",
            "Epoch 00079: val_loss did not improve from -2204.82601\n",
            "Epoch 80/250\n",
            " - 12s - loss: -2.2917e+03 - kl_acc: -5.8288e-01 - val_loss: -2.1968e+03 - val_kl_acc: -5.8488e-01\n",
            "\n",
            "Epoch 00080: val_loss did not improve from -2204.82601\n",
            "Epoch 81/250\n",
            " - 12s - loss: -2.2949e+03 - kl_acc: -5.8293e-01 - val_loss: -2.2056e+03 - val_kl_acc: -5.8376e-01\n",
            "\n",
            "Epoch 00081: val_loss improved from -2204.82601 to -2205.55662, saving model to /content/model.h5\n",
            "Epoch 82/250\n",
            " - 12s - loss: -2.2973e+03 - kl_acc: -5.8319e-01 - val_loss: -2.2167e+03 - val_kl_acc: -5.7937e-01\n",
            "\n",
            "Epoch 00082: val_loss improved from -2205.55662 to -2216.74000, saving model to /content/model.h5\n",
            "Epoch 83/250\n",
            " - 12s - loss: -2.3006e+03 - kl_acc: -5.8335e-01 - val_loss: -2.2149e+03 - val_kl_acc: -5.7952e-01\n",
            "\n",
            "Epoch 00083: val_loss did not improve from -2216.74000\n",
            "Epoch 84/250\n",
            " - 13s - loss: -2.3043e+03 - kl_acc: -5.8343e-01 - val_loss: -2.2121e+03 - val_kl_acc: -5.8551e-01\n",
            "\n",
            "Epoch 00084: val_loss did not improve from -2216.74000\n",
            "Epoch 85/250\n",
            " - 12s - loss: -2.3075e+03 - kl_acc: -5.8356e-01 - val_loss: -2.2161e+03 - val_kl_acc: -5.8529e-01\n",
            "\n",
            "Epoch 00085: val_loss did not improve from -2216.74000\n",
            "Epoch 86/250\n",
            " - 12s - loss: -2.3109e+03 - kl_acc: -5.8385e-01 - val_loss: -2.2247e+03 - val_kl_acc: -5.7811e-01\n",
            "\n",
            "Epoch 00086: val_loss improved from -2216.74000 to -2224.71600, saving model to /content/model.h5\n",
            "Epoch 87/250\n",
            " - 13s - loss: -2.3144e+03 - kl_acc: -5.8393e-01 - val_loss: -2.2335e+03 - val_kl_acc: -5.8055e-01\n",
            "\n",
            "Epoch 00087: val_loss improved from -2224.71600 to -2233.47073, saving model to /content/model.h5\n",
            "Epoch 88/250\n",
            " - 13s - loss: -2.3177e+03 - kl_acc: -5.8411e-01 - val_loss: -2.2291e+03 - val_kl_acc: -5.7924e-01\n",
            "\n",
            "Epoch 00088: val_loss did not improve from -2233.47073\n",
            "Epoch 89/250\n",
            " - 12s - loss: -2.3209e+03 - kl_acc: -5.8427e-01 - val_loss: -2.2239e+03 - val_kl_acc: -5.8675e-01\n",
            "\n",
            "Epoch 00089: val_loss did not improve from -2233.47073\n",
            "Epoch 90/250\n",
            " - 13s - loss: -2.3236e+03 - kl_acc: -5.8450e-01 - val_loss: -2.2328e+03 - val_kl_acc: -5.8662e-01\n",
            "\n",
            "Epoch 00090: val_loss did not improve from -2233.47073\n",
            "Epoch 91/250\n",
            " - 12s - loss: -2.3264e+03 - kl_acc: -5.8462e-01 - val_loss: -2.2347e+03 - val_kl_acc: -5.7999e-01\n",
            "\n",
            "Epoch 00091: val_loss improved from -2233.47073 to -2234.72107, saving model to /content/model.h5\n",
            "Epoch 92/250\n",
            " - 12s - loss: -2.3292e+03 - kl_acc: -5.8462e-01 - val_loss: -2.2364e+03 - val_kl_acc: -5.8637e-01\n",
            "\n",
            "Epoch 00092: val_loss improved from -2234.72107 to -2236.41337, saving model to /content/model.h5\n",
            "Epoch 93/250\n",
            " - 12s - loss: -2.3309e+03 - kl_acc: -5.8491e-01 - val_loss: -2.2383e+03 - val_kl_acc: -5.8623e-01\n",
            "\n",
            "Epoch 00093: val_loss improved from -2236.41337 to -2238.28953, saving model to /content/model.h5\n",
            "Epoch 94/250\n",
            " - 12s - loss: -2.3334e+03 - kl_acc: -5.8498e-01 - val_loss: -2.2396e+03 - val_kl_acc: -5.8053e-01\n",
            "\n",
            "Epoch 00094: val_loss improved from -2238.28953 to -2239.57310, saving model to /content/model.h5\n",
            "Epoch 95/250\n",
            " - 12s - loss: -2.3354e+03 - kl_acc: -5.8510e-01 - val_loss: -2.2408e+03 - val_kl_acc: -5.8666e-01\n",
            "\n",
            "Epoch 00095: val_loss improved from -2239.57310 to -2240.84731, saving model to /content/model.h5\n",
            "Epoch 96/250\n",
            " - 12s - loss: -2.3377e+03 - kl_acc: -5.8526e-01 - val_loss: -2.2489e+03 - val_kl_acc: -5.8114e-01\n",
            "\n",
            "Epoch 00096: val_loss improved from -2240.84731 to -2248.90057, saving model to /content/model.h5\n",
            "Epoch 97/250\n",
            " - 12s - loss: -2.3400e+03 - kl_acc: -5.8535e-01 - val_loss: -2.2432e+03 - val_kl_acc: -5.8052e-01\n",
            "\n",
            "Epoch 00097: val_loss did not improve from -2248.90057\n",
            "Epoch 98/250\n",
            " - 12s - loss: -2.3417e+03 - kl_acc: -5.8545e-01 - val_loss: -2.2466e+03 - val_kl_acc: -5.8661e-01\n",
            "\n",
            "Epoch 00098: val_loss did not improve from -2248.90057\n",
            "Epoch 99/250\n",
            " - 12s - loss: -2.3433e+03 - kl_acc: -5.8562e-01 - val_loss: -2.2522e+03 - val_kl_acc: -5.8105e-01\n",
            "\n",
            "Epoch 00099: val_loss improved from -2248.90057 to -2252.20042, saving model to /content/model.h5\n",
            "Epoch 100/250\n",
            " - 13s - loss: -2.3451e+03 - kl_acc: -5.8566e-01 - val_loss: -2.2543e+03 - val_kl_acc: -5.8693e-01\n",
            "\n",
            "Epoch 00100: val_loss improved from -2252.20042 to -2254.26989, saving model to /content/model.h5\n",
            "Epoch 101/250\n",
            " - 12s - loss: -2.3469e+03 - kl_acc: -5.8585e-01 - val_loss: -2.2569e+03 - val_kl_acc: -5.8103e-01\n",
            "\n",
            "Epoch 00101: val_loss improved from -2254.26989 to -2256.93812, saving model to /content/model.h5\n",
            "Epoch 102/250\n",
            " - 12s - loss: -2.3491e+03 - kl_acc: -5.8587e-01 - val_loss: -2.2522e+03 - val_kl_acc: -5.8692e-01\n",
            "\n",
            "Epoch 00102: val_loss did not improve from -2256.93812\n",
            "Epoch 103/250\n",
            " - 12s - loss: -2.3508e+03 - kl_acc: -5.8598e-01 - val_loss: -2.2592e+03 - val_kl_acc: -5.8189e-01\n",
            "\n",
            "Epoch 00103: val_loss improved from -2256.93812 to -2259.21328, saving model to /content/model.h5\n",
            "Epoch 104/250\n",
            " - 13s - loss: -2.3529e+03 - kl_acc: -5.8615e-01 - val_loss: -2.2449e+03 - val_kl_acc: -5.9079e-01\n",
            "\n",
            "Epoch 00104: val_loss did not improve from -2259.21328\n",
            "Epoch 105/250\n",
            " - 13s - loss: -2.3547e+03 - kl_acc: -5.8629e-01 - val_loss: -2.2623e+03 - val_kl_acc: -5.8317e-01\n",
            "\n",
            "Epoch 00105: val_loss improved from -2259.21328 to -2262.25540, saving model to /content/model.h5\n",
            "Epoch 106/250\n",
            " - 12s - loss: -2.3562e+03 - kl_acc: -5.8649e-01 - val_loss: -2.2582e+03 - val_kl_acc: -5.8833e-01\n",
            "\n",
            "Epoch 00106: val_loss did not improve from -2262.25540\n",
            "Epoch 107/250\n",
            " - 12s - loss: -2.3585e+03 - kl_acc: -5.8655e-01 - val_loss: -2.2626e+03 - val_kl_acc: -5.8303e-01\n",
            "\n",
            "Epoch 00107: val_loss improved from -2262.25540 to -2262.62594, saving model to /content/model.h5\n",
            "Epoch 108/250\n",
            " - 13s - loss: -2.3606e+03 - kl_acc: -5.8665e-01 - val_loss: -2.2550e+03 - val_kl_acc: -5.8948e-01\n",
            "\n",
            "Epoch 00108: val_loss did not improve from -2262.62594\n",
            "Epoch 109/250\n",
            " - 12s - loss: -2.3618e+03 - kl_acc: -5.8683e-01 - val_loss: -2.2658e+03 - val_kl_acc: -5.8244e-01\n",
            "\n",
            "Epoch 00109: val_loss improved from -2262.62594 to -2265.75873, saving model to /content/model.h5\n",
            "Epoch 110/250\n",
            " - 12s - loss: -2.3631e+03 - kl_acc: -5.8687e-01 - val_loss: -2.2515e+03 - val_kl_acc: -5.9225e-01\n",
            "\n",
            "Epoch 00110: val_loss did not improve from -2265.75873\n",
            "Epoch 111/250\n",
            " - 12s - loss: -2.3649e+03 - kl_acc: -5.8701e-01 - val_loss: -2.2727e+03 - val_kl_acc: -5.8659e-01\n",
            "\n",
            "Epoch 00111: val_loss improved from -2265.75873 to -2272.73530, saving model to /content/model.h5\n",
            "Epoch 112/250\n",
            " - 13s - loss: -2.3662e+03 - kl_acc: -5.8719e-01 - val_loss: -2.2668e+03 - val_kl_acc: -5.8323e-01\n",
            "\n",
            "Epoch 00112: val_loss did not improve from -2272.73530\n",
            "Epoch 113/250\n",
            " - 12s - loss: -2.3678e+03 - kl_acc: -5.8714e-01 - val_loss: -2.2596e+03 - val_kl_acc: -5.9010e-01\n",
            "\n",
            "Epoch 00113: val_loss did not improve from -2272.73530\n",
            "Epoch 114/250\n",
            " - 12s - loss: -2.3687e+03 - kl_acc: -5.8738e-01 - val_loss: -2.2673e+03 - val_kl_acc: -5.8821e-01\n",
            "\n",
            "Epoch 00114: val_loss did not improve from -2272.73530\n",
            "Epoch 115/250\n",
            " - 12s - loss: -2.3708e+03 - kl_acc: -5.8742e-01 - val_loss: -2.2681e+03 - val_kl_acc: -5.8302e-01\n",
            "\n",
            "Epoch 00115: val_loss did not improve from -2272.73530\n",
            "Epoch 116/250\n",
            " - 12s - loss: -2.3723e+03 - kl_acc: -5.8752e-01 - val_loss: -2.2808e+03 - val_kl_acc: -5.8520e-01\n",
            "\n",
            "Epoch 00116: val_loss improved from -2272.73530 to -2280.75713, saving model to /content/model.h5\n",
            "Epoch 117/250\n",
            " - 13s - loss: -2.3741e+03 - kl_acc: -5.8758e-01 - val_loss: -2.2796e+03 - val_kl_acc: -5.8650e-01\n",
            "\n",
            "Epoch 00117: val_loss did not improve from -2280.75713\n",
            "Epoch 118/250\n",
            " - 12s - loss: -2.3752e+03 - kl_acc: -5.8771e-01 - val_loss: -2.2743e+03 - val_kl_acc: -5.8411e-01\n",
            "\n",
            "Epoch 00118: val_loss did not improve from -2280.75713\n",
            "Epoch 119/250\n",
            " - 12s - loss: -2.3765e+03 - kl_acc: -5.8780e-01 - val_loss: -2.2806e+03 - val_kl_acc: -5.8836e-01\n",
            "\n",
            "Epoch 00119: val_loss did not improve from -2280.75713\n",
            "Epoch 120/250\n",
            " - 12s - loss: -2.3779e+03 - kl_acc: -5.8790e-01 - val_loss: -2.2842e+03 - val_kl_acc: -5.8428e-01\n",
            "\n",
            "Epoch 00120: val_loss improved from -2280.75713 to -2284.18970, saving model to /content/model.h5\n",
            "Epoch 121/250\n",
            " - 13s - loss: -2.3788e+03 - kl_acc: -5.8802e-01 - val_loss: -2.2823e+03 - val_kl_acc: -5.8893e-01\n",
            "\n",
            "Epoch 00121: val_loss did not improve from -2284.18970\n",
            "Epoch 122/250\n",
            " - 12s - loss: -2.3802e+03 - kl_acc: -5.8808e-01 - val_loss: -2.2845e+03 - val_kl_acc: -5.8426e-01\n",
            "\n",
            "Epoch 00122: val_loss improved from -2284.18970 to -2284.46534, saving model to /content/model.h5\n",
            "Epoch 123/250\n",
            " - 12s - loss: -2.3820e+03 - kl_acc: -5.8806e-01 - val_loss: -2.2830e+03 - val_kl_acc: -5.8660e-01\n",
            "\n",
            "Epoch 00123: val_loss did not improve from -2284.46534\n",
            "Epoch 124/250\n",
            " - 12s - loss: -2.3831e+03 - kl_acc: -5.8825e-01 - val_loss: -2.2711e+03 - val_kl_acc: -5.9188e-01\n",
            "\n",
            "Epoch 00124: val_loss did not improve from -2284.46534\n",
            "Epoch 125/250\n",
            " - 13s - loss: -2.3843e+03 - kl_acc: -5.8840e-01 - val_loss: -2.2835e+03 - val_kl_acc: -5.8917e-01\n",
            "\n",
            "Epoch 00125: val_loss did not improve from -2284.46534\n",
            "Epoch 126/250\n",
            " - 13s - loss: -2.3853e+03 - kl_acc: -5.8844e-01 - val_loss: -2.2842e+03 - val_kl_acc: -5.8362e-01\n",
            "\n",
            "Epoch 00126: val_loss did not improve from -2284.46534\n",
            "Epoch 127/250\n",
            " - 12s - loss: -2.3870e+03 - kl_acc: -5.8843e-01 - val_loss: -2.2867e+03 - val_kl_acc: -5.8790e-01\n",
            "\n",
            "Epoch 00127: val_loss improved from -2284.46534 to -2286.66401, saving model to /content/model.h5\n",
            "Epoch 128/250\n",
            " - 13s - loss: -2.3880e+03 - kl_acc: -5.8861e-01 - val_loss: -2.2927e+03 - val_kl_acc: -5.8727e-01\n",
            "\n",
            "Epoch 00128: val_loss improved from -2286.66401 to -2292.74069, saving model to /content/model.h5\n",
            "Epoch 129/250\n",
            " - 12s - loss: -2.3892e+03 - kl_acc: -5.8865e-01 - val_loss: -2.2898e+03 - val_kl_acc: -5.8508e-01\n",
            "\n",
            "Epoch 00129: val_loss did not improve from -2292.74069\n",
            "Epoch 130/250\n",
            " - 12s - loss: -2.3905e+03 - kl_acc: -5.8875e-01 - val_loss: -2.2892e+03 - val_kl_acc: -5.8958e-01\n",
            "\n",
            "Epoch 00130: val_loss did not improve from -2292.74069\n",
            "Epoch 131/250\n",
            " - 12s - loss: -2.3912e+03 - kl_acc: -5.8886e-01 - val_loss: -2.2922e+03 - val_kl_acc: -5.8479e-01\n",
            "\n",
            "Epoch 00131: val_loss did not improve from -2292.74069\n",
            "Epoch 132/250\n",
            " - 13s - loss: -2.3924e+03 - kl_acc: -5.8885e-01 - val_loss: -2.2898e+03 - val_kl_acc: -5.8735e-01\n",
            "\n",
            "Epoch 00132: val_loss did not improve from -2292.74069\n",
            "Epoch 133/250\n",
            " - 12s - loss: -2.3930e+03 - kl_acc: -5.8907e-01 - val_loss: -2.2931e+03 - val_kl_acc: -5.8546e-01\n",
            "\n",
            "Epoch 00133: val_loss improved from -2292.74069 to -2293.12394, saving model to /content/model.h5\n",
            "Epoch 134/250\n",
            " - 12s - loss: -2.3942e+03 - kl_acc: -5.8895e-01 - val_loss: -2.2912e+03 - val_kl_acc: -5.8980e-01\n",
            "\n",
            "Epoch 00134: val_loss did not improve from -2293.12394\n",
            "Epoch 135/250\n",
            " - 12s - loss: -2.3951e+03 - kl_acc: -5.8907e-01 - val_loss: -2.2921e+03 - val_kl_acc: -5.8544e-01\n",
            "\n",
            "Epoch 00135: val_loss did not improve from -2293.12394\n",
            "Epoch 136/250\n",
            " - 12s - loss: -2.3957e+03 - kl_acc: -5.8914e-01 - val_loss: -2.2919e+03 - val_kl_acc: -5.9067e-01\n",
            "\n",
            "Epoch 00136: val_loss did not improve from -2293.12394\n",
            "Epoch 137/250\n",
            " - 12s - loss: -2.3966e+03 - kl_acc: -5.8930e-01 - val_loss: -2.2873e+03 - val_kl_acc: -5.9095e-01\n",
            "\n",
            "Epoch 00137: val_loss did not improve from -2293.12394\n",
            "Epoch 138/250\n",
            " - 12s - loss: -2.3977e+03 - kl_acc: -5.8937e-01 - val_loss: -2.2915e+03 - val_kl_acc: -5.9120e-01\n",
            "\n",
            "Epoch 00138: val_loss did not improve from -2293.12394\n",
            "Epoch 139/250\n",
            " - 12s - loss: -2.3989e+03 - kl_acc: -5.8941e-01 - val_loss: -2.2998e+03 - val_kl_acc: -5.8805e-01\n",
            "\n",
            "Epoch 00139: val_loss improved from -2293.12394 to -2299.81075, saving model to /content/model.h5\n",
            "Epoch 140/250\n",
            " - 12s - loss: -2.4001e+03 - kl_acc: -5.8939e-01 - val_loss: -2.3019e+03 - val_kl_acc: -5.8650e-01\n",
            "\n",
            "Epoch 00140: val_loss improved from -2299.81075 to -2301.86486, saving model to /content/model.h5\n",
            "Epoch 141/250\n",
            " - 12s - loss: -2.4008e+03 - kl_acc: -5.8948e-01 - val_loss: -2.3021e+03 - val_kl_acc: -5.8560e-01\n",
            "\n",
            "Epoch 00141: val_loss improved from -2301.86486 to -2302.12164, saving model to /content/model.h5\n",
            "Epoch 142/250\n",
            " - 12s - loss: -2.4020e+03 - kl_acc: -5.8946e-01 - val_loss: -2.2833e+03 - val_kl_acc: -5.9288e-01\n",
            "\n",
            "Epoch 00142: val_loss did not improve from -2302.12164\n",
            "Epoch 143/250\n",
            " - 13s - loss: -2.4026e+03 - kl_acc: -5.8966e-01 - val_loss: -2.3000e+03 - val_kl_acc: -5.9035e-01\n",
            "\n",
            "Epoch 00143: val_loss did not improve from -2302.12164\n",
            "Epoch 144/250\n",
            " - 12s - loss: -2.4034e+03 - kl_acc: -5.8974e-01 - val_loss: -2.3003e+03 - val_kl_acc: -5.8733e-01\n",
            "\n",
            "Epoch 00144: val_loss did not improve from -2302.12164\n",
            "Epoch 145/250\n",
            " - 12s - loss: -2.4044e+03 - kl_acc: -5.8969e-01 - val_loss: -2.2960e+03 - val_kl_acc: -5.9097e-01\n",
            "\n",
            "Epoch 00145: val_loss did not improve from -2302.12164\n",
            "Epoch 146/250\n",
            " - 12s - loss: -2.4056e+03 - kl_acc: -5.8981e-01 - val_loss: -2.2993e+03 - val_kl_acc: -5.9039e-01\n",
            "\n",
            "Epoch 00146: val_loss did not improve from -2302.12164\n",
            "Epoch 147/250\n",
            " - 12s - loss: -2.4062e+03 - kl_acc: -5.8989e-01 - val_loss: -2.2975e+03 - val_kl_acc: -5.9184e-01\n",
            "\n",
            "Epoch 00147: val_loss did not improve from -2302.12164\n",
            "Epoch 148/250\n",
            " - 12s - loss: -2.4071e+03 - kl_acc: -5.8993e-01 - val_loss: -2.3080e+03 - val_kl_acc: -5.8657e-01\n",
            "\n",
            "Epoch 00148: val_loss improved from -2302.12164 to -2307.95291, saving model to /content/model.h5\n",
            "Epoch 149/250\n",
            " - 12s - loss: -2.4083e+03 - kl_acc: -5.8990e-01 - val_loss: -2.3052e+03 - val_kl_acc: -5.8634e-01\n",
            "\n",
            "Epoch 00149: val_loss did not improve from -2307.95291\n",
            "Epoch 150/250\n",
            " - 12s - loss: -2.4092e+03 - kl_acc: -5.9009e-01 - val_loss: -2.3077e+03 - val_kl_acc: -5.8750e-01\n",
            "\n",
            "Epoch 00150: val_loss did not improve from -2307.95291\n",
            "Epoch 151/250\n",
            " - 12s - loss: -2.4095e+03 - kl_acc: -5.9014e-01 - val_loss: -2.3005e+03 - val_kl_acc: -5.9247e-01\n",
            "\n",
            "Epoch 00151: val_loss did not improve from -2307.95291\n",
            "Epoch 152/250\n",
            " - 12s - loss: -2.4101e+03 - kl_acc: -5.9027e-01 - val_loss: -2.2921e+03 - val_kl_acc: -5.9289e-01\n",
            "\n",
            "Epoch 00152: val_loss did not improve from -2307.95291\n",
            "Epoch 153/250\n",
            " - 12s - loss: -2.4112e+03 - kl_acc: -5.9023e-01 - val_loss: -2.3031e+03 - val_kl_acc: -5.9198e-01\n",
            "\n",
            "Epoch 00153: val_loss did not improve from -2307.95291\n",
            "Epoch 154/250\n",
            " - 13s - loss: -2.4114e+03 - kl_acc: -5.9022e-01 - val_loss: -2.2975e+03 - val_kl_acc: -5.9238e-01\n",
            "\n",
            "Epoch 00154: val_loss did not improve from -2307.95291\n",
            "Epoch 155/250\n",
            " - 12s - loss: -2.4123e+03 - kl_acc: -5.9026e-01 - val_loss: -2.3110e+03 - val_kl_acc: -5.8764e-01\n",
            "\n",
            "Epoch 00155: val_loss improved from -2307.95291 to -2311.04104, saving model to /content/model.h5\n",
            "Epoch 156/250\n",
            " - 13s - loss: -2.4126e+03 - kl_acc: -5.9041e-01 - val_loss: -2.3062e+03 - val_kl_acc: -5.9088e-01\n",
            "\n",
            "Epoch 00156: val_loss did not improve from -2311.04104\n",
            "Epoch 157/250\n",
            " - 12s - loss: -2.4137e+03 - kl_acc: -5.9046e-01 - val_loss: -2.2994e+03 - val_kl_acc: -5.8684e-01\n",
            "\n",
            "Epoch 00157: val_loss did not improve from -2311.04104\n",
            "Epoch 158/250\n",
            " - 12s - loss: -2.4143e+03 - kl_acc: -5.9041e-01 - val_loss: -2.3061e+03 - val_kl_acc: -5.9206e-01\n",
            "\n",
            "Epoch 00158: val_loss did not improve from -2311.04104\n",
            "Epoch 159/250\n",
            " - 13s - loss: -2.4151e+03 - kl_acc: -5.9055e-01 - val_loss: -2.3122e+03 - val_kl_acc: -5.9009e-01\n",
            "\n",
            "Epoch 00159: val_loss improved from -2311.04104 to -2312.20205, saving model to /content/model.h5\n",
            "Epoch 160/250\n",
            " - 13s - loss: -2.4162e+03 - kl_acc: -5.9058e-01 - val_loss: -2.3091e+03 - val_kl_acc: -5.9047e-01\n",
            "\n",
            "Epoch 00160: val_loss did not improve from -2312.20205\n",
            "Epoch 161/250\n",
            " - 12s - loss: -2.4163e+03 - kl_acc: -5.9063e-01 - val_loss: -2.3100e+03 - val_kl_acc: -5.8906e-01\n",
            "\n",
            "Epoch 00161: val_loss did not improve from -2312.20205\n",
            "Epoch 162/250\n",
            " - 12s - loss: -2.4176e+03 - kl_acc: -5.9070e-01 - val_loss: -2.3085e+03 - val_kl_acc: -5.8892e-01\n",
            "\n",
            "Epoch 00162: val_loss did not improve from -2312.20205\n",
            "Epoch 163/250\n",
            " - 12s - loss: -2.4184e+03 - kl_acc: -5.9079e-01 - val_loss: -2.3142e+03 - val_kl_acc: -5.9076e-01\n",
            "\n",
            "Epoch 00163: val_loss improved from -2312.20205 to -2314.18942, saving model to /content/model.h5\n",
            "Epoch 164/250\n",
            " - 12s - loss: -2.4190e+03 - kl_acc: -5.9081e-01 - val_loss: -2.3137e+03 - val_kl_acc: -5.8874e-01\n",
            "\n",
            "Epoch 00164: val_loss did not improve from -2314.18942\n",
            "Epoch 165/250\n",
            " - 13s - loss: -2.4197e+03 - kl_acc: -5.9080e-01 - val_loss: -2.3085e+03 - val_kl_acc: -5.9393e-01\n",
            "\n",
            "Epoch 00165: val_loss did not improve from -2314.18942\n",
            "Epoch 166/250\n",
            " - 13s - loss: -2.4209e+03 - kl_acc: -5.9090e-01 - val_loss: -2.3156e+03 - val_kl_acc: -5.8897e-01\n",
            "\n",
            "Epoch 00166: val_loss improved from -2314.18942 to -2315.60690, saving model to /content/model.h5\n",
            "Epoch 167/250\n",
            " - 12s - loss: -2.4215e+03 - kl_acc: -5.9093e-01 - val_loss: -2.3142e+03 - val_kl_acc: -5.8820e-01\n",
            "\n",
            "Epoch 00167: val_loss did not improve from -2315.60690\n",
            "Epoch 168/250\n",
            " - 13s - loss: -2.4217e+03 - kl_acc: -5.9109e-01 - val_loss: -2.3089e+03 - val_kl_acc: -5.9393e-01\n",
            "\n",
            "Epoch 00168: val_loss did not improve from -2315.60690\n",
            "Epoch 169/250\n",
            " - 13s - loss: -2.4223e+03 - kl_acc: -5.9105e-01 - val_loss: -2.3183e+03 - val_kl_acc: -5.8760e-01\n",
            "\n",
            "Epoch 00169: val_loss improved from -2315.60690 to -2318.26860, saving model to /content/model.h5\n",
            "Epoch 170/250\n",
            " - 12s - loss: -2.4234e+03 - kl_acc: -5.9101e-01 - val_loss: -2.3165e+03 - val_kl_acc: -5.9210e-01\n",
            "\n",
            "Epoch 00170: val_loss did not improve from -2318.26860\n",
            "Epoch 171/250\n",
            " - 12s - loss: -2.4233e+03 - kl_acc: -5.9109e-01 - val_loss: -2.3173e+03 - val_kl_acc: -5.9182e-01\n",
            "\n",
            "Epoch 00171: val_loss did not improve from -2318.26860\n",
            "Epoch 172/250\n",
            " - 12s - loss: -2.4241e+03 - kl_acc: -5.9110e-01 - val_loss: -2.3143e+03 - val_kl_acc: -5.9200e-01\n",
            "\n",
            "Epoch 00172: val_loss did not improve from -2318.26860\n",
            "Epoch 173/250\n",
            " - 13s - loss: -2.4249e+03 - kl_acc: -5.9108e-01 - val_loss: -2.3215e+03 - val_kl_acc: -5.9148e-01\n",
            "\n",
            "Epoch 00173: val_loss improved from -2318.26860 to -2321.47943, saving model to /content/model.h5\n",
            "Epoch 174/250\n",
            " - 12s - loss: -2.4260e+03 - kl_acc: -5.9116e-01 - val_loss: -2.3191e+03 - val_kl_acc: -5.8897e-01\n",
            "\n",
            "Epoch 00174: val_loss did not improve from -2321.47943\n",
            "Epoch 175/250\n",
            " - 13s - loss: -2.4262e+03 - kl_acc: -5.9144e-01 - val_loss: -2.3250e+03 - val_kl_acc: -5.8911e-01\n",
            "\n",
            "Epoch 00175: val_loss improved from -2321.47943 to -2324.97585, saving model to /content/model.h5\n",
            "Epoch 176/250\n",
            " - 13s - loss: -2.4271e+03 - kl_acc: -5.9132e-01 - val_loss: -2.3183e+03 - val_kl_acc: -5.9339e-01\n",
            "\n",
            "Epoch 00176: val_loss did not improve from -2324.97585\n",
            "Epoch 177/250\n",
            " - 12s - loss: -2.4281e+03 - kl_acc: -5.9134e-01 - val_loss: -2.3104e+03 - val_kl_acc: -5.9476e-01\n",
            "\n",
            "Epoch 00177: val_loss did not improve from -2324.97585\n",
            "Epoch 178/250\n",
            " - 13s - loss: -2.4287e+03 - kl_acc: -5.9147e-01 - val_loss: -2.3250e+03 - val_kl_acc: -5.9127e-01\n",
            "\n",
            "Epoch 00178: val_loss did not improve from -2324.97585\n",
            "Epoch 179/250\n",
            " - 12s - loss: -2.4297e+03 - kl_acc: -5.9156e-01 - val_loss: -2.3191e+03 - val_kl_acc: -5.9097e-01\n",
            "\n",
            "Epoch 00179: val_loss did not improve from -2324.97585\n",
            "Epoch 180/250\n",
            " - 12s - loss: -2.4305e+03 - kl_acc: -5.9158e-01 - val_loss: -2.3187e+03 - val_kl_acc: -5.8993e-01\n",
            "\n",
            "Epoch 00180: val_loss did not improve from -2324.97585\n",
            "Epoch 181/250\n",
            " - 12s - loss: -2.4314e+03 - kl_acc: -5.9152e-01 - val_loss: -2.3105e+03 - val_kl_acc: -5.9549e-01\n",
            "\n",
            "Epoch 00181: val_loss did not improve from -2324.97585\n",
            "Epoch 182/250\n",
            " - 12s - loss: -2.4324e+03 - kl_acc: -5.9158e-01 - val_loss: -2.3253e+03 - val_kl_acc: -5.9117e-01\n",
            "\n",
            "Epoch 00182: val_loss improved from -2324.97585 to -2325.30765, saving model to /content/model.h5\n",
            "Epoch 183/250\n",
            " - 12s - loss: -2.4327e+03 - kl_acc: -5.9168e-01 - val_loss: -2.3271e+03 - val_kl_acc: -5.9179e-01\n",
            "\n",
            "Epoch 00183: val_loss improved from -2325.30765 to -2327.14066, saving model to /content/model.h5\n",
            "Epoch 184/250\n",
            " - 12s - loss: -2.4337e+03 - kl_acc: -5.9166e-01 - val_loss: -2.3158e+03 - val_kl_acc: -5.9547e-01\n",
            "\n",
            "Epoch 00184: val_loss did not improve from -2327.14066\n",
            "Epoch 185/250\n",
            " - 12s - loss: -2.4335e+03 - kl_acc: -5.9181e-01 - val_loss: -2.3265e+03 - val_kl_acc: -5.9025e-01\n",
            "\n",
            "Epoch 00185: val_loss did not improve from -2327.14066\n",
            "Epoch 186/250\n",
            " - 12s - loss: -2.4344e+03 - kl_acc: -5.9175e-01 - val_loss: -2.3175e+03 - val_kl_acc: -5.9454e-01\n",
            "\n",
            "Epoch 00186: val_loss did not improve from -2327.14066\n",
            "Epoch 187/250\n",
            " - 12s - loss: -2.4352e+03 - kl_acc: -5.9169e-01 - val_loss: -2.3295e+03 - val_kl_acc: -5.9162e-01\n",
            "\n",
            "Epoch 00187: val_loss improved from -2327.14066 to -2329.49924, saving model to /content/model.h5\n",
            "Epoch 188/250\n",
            " - 12s - loss: -2.4352e+03 - kl_acc: -5.9186e-01 - val_loss: -2.3252e+03 - val_kl_acc: -5.8766e-01\n",
            "\n",
            "Epoch 00188: val_loss did not improve from -2329.49924\n",
            "Epoch 189/250\n",
            " - 12s - loss: -2.4360e+03 - kl_acc: -5.9175e-01 - val_loss: -2.3250e+03 - val_kl_acc: -5.8823e-01\n",
            "\n",
            "Epoch 00189: val_loss did not improve from -2329.49924\n",
            "Epoch 190/250\n",
            " - 12s - loss: -2.4363e+03 - kl_acc: -5.9192e-01 - val_loss: -2.3220e+03 - val_kl_acc: -5.9356e-01\n",
            "\n",
            "Epoch 00190: val_loss did not improve from -2329.49924\n",
            "Epoch 191/250\n",
            " - 12s - loss: -2.4363e+03 - kl_acc: -5.9198e-01 - val_loss: -2.3292e+03 - val_kl_acc: -5.9248e-01\n",
            "\n",
            "Epoch 00191: val_loss did not improve from -2329.49924\n",
            "Epoch 192/250\n",
            " - 13s - loss: -2.4371e+03 - kl_acc: -5.9197e-01 - val_loss: -2.3185e+03 - val_kl_acc: -5.9373e-01\n",
            "\n",
            "Epoch 00192: val_loss did not improve from -2329.49924\n",
            "Epoch 193/250\n",
            " - 13s - loss: -2.4374e+03 - kl_acc: -5.9196e-01 - val_loss: -2.3330e+03 - val_kl_acc: -5.8910e-01\n",
            "\n",
            "Epoch 00193: val_loss improved from -2329.49924 to -2333.01791, saving model to /content/model.h5\n",
            "Epoch 194/250\n",
            " - 12s - loss: -2.4374e+03 - kl_acc: -5.9208e-01 - val_loss: -2.3310e+03 - val_kl_acc: -5.9046e-01\n",
            "\n",
            "Epoch 00194: val_loss did not improve from -2333.01791\n",
            "Epoch 195/250\n",
            " - 13s - loss: -2.4384e+03 - kl_acc: -5.9206e-01 - val_loss: -2.3219e+03 - val_kl_acc: -5.8961e-01\n",
            "\n",
            "Epoch 00195: val_loss did not improve from -2333.01791\n",
            "Epoch 196/250\n",
            " - 12s - loss: -2.4383e+03 - kl_acc: -5.9207e-01 - val_loss: -2.3246e+03 - val_kl_acc: -5.9361e-01\n",
            "\n",
            "Epoch 00196: val_loss did not improve from -2333.01791\n",
            "Epoch 197/250\n",
            " - 12s - loss: -2.4381e+03 - kl_acc: -5.9207e-01 - val_loss: -2.3237e+03 - val_kl_acc: -5.9497e-01\n",
            "\n",
            "Epoch 00197: val_loss did not improve from -2333.01791\n",
            "Epoch 198/250\n",
            " - 12s - loss: -2.4393e+03 - kl_acc: -5.9220e-01 - val_loss: -2.3195e+03 - val_kl_acc: -5.9684e-01\n",
            "\n",
            "Epoch 00198: val_loss did not improve from -2333.01791\n",
            "Epoch 199/250\n",
            " - 12s - loss: -2.4395e+03 - kl_acc: -5.9218e-01 - val_loss: -2.3185e+03 - val_kl_acc: -5.9241e-01\n",
            "\n",
            "Epoch 00199: val_loss did not improve from -2333.01791\n",
            "Epoch 200/250\n",
            " - 12s - loss: -2.4402e+03 - kl_acc: -5.9229e-01 - val_loss: -2.3353e+03 - val_kl_acc: -5.9135e-01\n",
            "\n",
            "Epoch 00200: val_loss improved from -2333.01791 to -2335.25569, saving model to /content/model.h5\n",
            "Epoch 201/250\n",
            " - 12s - loss: -2.4414e+03 - kl_acc: -5.9214e-01 - val_loss: -2.3333e+03 - val_kl_acc: -5.8863e-01\n",
            "\n",
            "Epoch 00201: val_loss did not improve from -2335.25569\n",
            "Epoch 202/250\n",
            " - 12s - loss: -2.4421e+03 - kl_acc: -5.9222e-01 - val_loss: -2.3328e+03 - val_kl_acc: -5.9318e-01\n",
            "\n",
            "Epoch 00202: val_loss did not improve from -2335.25569\n",
            "Epoch 203/250\n",
            " - 12s - loss: -2.4420e+03 - kl_acc: -5.9240e-01 - val_loss: -2.3325e+03 - val_kl_acc: -5.9240e-01\n",
            "\n",
            "Epoch 00203: val_loss did not improve from -2335.25569\n",
            "Epoch 204/250\n",
            " - 12s - loss: -2.4429e+03 - kl_acc: -5.9230e-01 - val_loss: -2.3311e+03 - val_kl_acc: -5.8867e-01\n",
            "\n",
            "Epoch 00204: val_loss did not improve from -2335.25569\n",
            "Epoch 205/250\n",
            " - 13s - loss: -2.4435e+03 - kl_acc: -5.9233e-01 - val_loss: -2.3203e+03 - val_kl_acc: -5.9600e-01\n",
            "\n",
            "Epoch 00205: val_loss did not improve from -2335.25569\n",
            "Epoch 206/250\n",
            " - 12s - loss: -2.4439e+03 - kl_acc: -5.9249e-01 - val_loss: -2.3392e+03 - val_kl_acc: -5.9186e-01\n",
            "\n",
            "Epoch 00206: val_loss improved from -2335.25569 to -2339.17860, saving model to /content/model.h5\n",
            "Epoch 207/250\n",
            " - 12s - loss: -2.4446e+03 - kl_acc: -5.9242e-01 - val_loss: -2.3377e+03 - val_kl_acc: -5.9098e-01\n",
            "\n",
            "Epoch 00207: val_loss did not improve from -2339.17860\n",
            "Epoch 208/250\n",
            " - 13s - loss: -2.4451e+03 - kl_acc: -5.9233e-01 - val_loss: -2.3172e+03 - val_kl_acc: -5.9636e-01\n",
            "\n",
            "Epoch 00208: val_loss did not improve from -2339.17860\n",
            "Epoch 209/250\n",
            " - 12s - loss: -2.4455e+03 - kl_acc: -5.9260e-01 - val_loss: -2.3350e+03 - val_kl_acc: -5.8952e-01\n",
            "\n",
            "Epoch 00209: val_loss did not improve from -2339.17860\n",
            "Epoch 210/250\n",
            " - 12s - loss: -2.4457e+03 - kl_acc: -5.9258e-01 - val_loss: -2.3352e+03 - val_kl_acc: -5.9167e-01\n",
            "\n",
            "Epoch 00210: val_loss did not improve from -2339.17860\n",
            "Epoch 211/250\n",
            " - 12s - loss: -2.4462e+03 - kl_acc: -5.9253e-01 - val_loss: -2.3293e+03 - val_kl_acc: -5.9547e-01\n",
            "\n",
            "Epoch 00211: val_loss did not improve from -2339.17860\n",
            "Epoch 212/250\n",
            " - 12s - loss: -2.4469e+03 - kl_acc: -5.9266e-01 - val_loss: -2.3382e+03 - val_kl_acc: -5.9135e-01\n",
            "\n",
            "Epoch 00212: val_loss did not improve from -2339.17860\n",
            "Epoch 213/250\n",
            " - 12s - loss: -2.4468e+03 - kl_acc: -5.9271e-01 - val_loss: -2.3355e+03 - val_kl_acc: -5.9348e-01\n",
            "\n",
            "Epoch 00213: val_loss did not improve from -2339.17860\n",
            "Epoch 214/250\n",
            " - 12s - loss: -2.4475e+03 - kl_acc: -5.9271e-01 - val_loss: -2.3345e+03 - val_kl_acc: -5.9435e-01\n",
            "\n",
            "Epoch 00214: val_loss did not improve from -2339.17860\n",
            "Epoch 215/250\n",
            " - 12s - loss: -2.4480e+03 - kl_acc: -5.9269e-01 - val_loss: -2.3438e+03 - val_kl_acc: -5.9002e-01\n",
            "\n",
            "Epoch 00215: val_loss improved from -2339.17860 to -2343.75468, saving model to /content/model.h5\n",
            "Epoch 216/250\n",
            " - 12s - loss: -2.4484e+03 - kl_acc: -5.9265e-01 - val_loss: -2.3290e+03 - val_kl_acc: -5.9648e-01\n",
            "\n",
            "Epoch 00216: val_loss did not improve from -2343.75468\n",
            "Epoch 217/250\n",
            " - 13s - loss: -2.4491e+03 - kl_acc: -5.9275e-01 - val_loss: -2.3380e+03 - val_kl_acc: -5.9179e-01\n",
            "\n",
            "Epoch 00217: val_loss did not improve from -2343.75468\n",
            "Epoch 218/250\n",
            " - 13s - loss: -2.4494e+03 - kl_acc: -5.9282e-01 - val_loss: -2.3382e+03 - val_kl_acc: -5.9321e-01\n",
            "\n",
            "Epoch 00218: val_loss did not improve from -2343.75468\n",
            "Epoch 219/250\n",
            " - 12s - loss: -2.4501e+03 - kl_acc: -5.9271e-01 - val_loss: -2.3410e+03 - val_kl_acc: -5.9338e-01\n",
            "\n",
            "Epoch 00219: val_loss did not improve from -2343.75468\n",
            "Epoch 220/250\n",
            " - 12s - loss: -2.4501e+03 - kl_acc: -5.9280e-01 - val_loss: -2.3424e+03 - val_kl_acc: -5.9162e-01\n",
            "\n",
            "Epoch 00220: val_loss did not improve from -2343.75468\n",
            "Epoch 221/250\n",
            " - 12s - loss: -2.4505e+03 - kl_acc: -5.9291e-01 - val_loss: -2.3443e+03 - val_kl_acc: -5.9246e-01\n",
            "\n",
            "Epoch 00221: val_loss improved from -2343.75468 to -2344.27712, saving model to /content/model.h5\n",
            "Epoch 222/250\n",
            " - 12s - loss: -2.4510e+03 - kl_acc: -5.9288e-01 - val_loss: -2.3421e+03 - val_kl_acc: -5.9372e-01\n",
            "\n",
            "Epoch 00222: val_loss did not improve from -2344.27712\n",
            "Epoch 223/250\n",
            " - 13s - loss: -2.4511e+03 - kl_acc: -5.9289e-01 - val_loss: -2.3379e+03 - val_kl_acc: -5.9277e-01\n",
            "\n",
            "Epoch 00223: val_loss did not improve from -2344.27712\n",
            "Epoch 224/250\n",
            " - 12s - loss: -2.4517e+03 - kl_acc: -5.9296e-01 - val_loss: -2.3419e+03 - val_kl_acc: -5.9396e-01\n",
            "\n",
            "Epoch 00224: val_loss did not improve from -2344.27712\n",
            "Epoch 225/250\n",
            " - 12s - loss: -2.4519e+03 - kl_acc: -5.9293e-01 - val_loss: -2.3380e+03 - val_kl_acc: -5.9089e-01\n",
            "\n",
            "Epoch 00225: val_loss did not improve from -2344.27712\n",
            "Epoch 226/250\n",
            " - 12s - loss: -2.4520e+03 - kl_acc: -5.9298e-01 - val_loss: -2.3401e+03 - val_kl_acc: -5.9187e-01\n",
            "\n",
            "Epoch 00226: val_loss did not improve from -2344.27712\n",
            "Epoch 227/250\n",
            " - 12s - loss: -2.4529e+03 - kl_acc: -5.9304e-01 - val_loss: -2.3474e+03 - val_kl_acc: -5.9073e-01\n",
            "\n",
            "Epoch 00227: val_loss improved from -2344.27712 to -2347.37466, saving model to /content/model.h5\n",
            "Epoch 228/250\n",
            " - 13s - loss: -2.4527e+03 - kl_acc: -5.9311e-01 - val_loss: -2.3394e+03 - val_kl_acc: -5.9531e-01\n",
            "\n",
            "Epoch 00228: val_loss did not improve from -2347.37466\n",
            "Epoch 229/250\n",
            " - 12s - loss: -2.4529e+03 - kl_acc: -5.9298e-01 - val_loss: -2.3445e+03 - val_kl_acc: -5.9114e-01\n",
            "\n",
            "Epoch 00229: val_loss did not improve from -2347.37466\n",
            "Epoch 230/250\n",
            " - 12s - loss: -2.4533e+03 - kl_acc: -5.9309e-01 - val_loss: -2.3372e+03 - val_kl_acc: -5.9495e-01\n",
            "\n",
            "Epoch 00230: val_loss did not improve from -2347.37466\n",
            "Epoch 231/250\n",
            " - 12s - loss: -2.4539e+03 - kl_acc: -5.9303e-01 - val_loss: -2.3396e+03 - val_kl_acc: -5.9460e-01\n",
            "\n",
            "Epoch 00231: val_loss did not improve from -2347.37466\n",
            "Epoch 232/250\n",
            " - 12s - loss: -2.4543e+03 - kl_acc: -5.9310e-01 - val_loss: -2.3420e+03 - val_kl_acc: -5.9102e-01\n",
            "\n",
            "Epoch 00232: val_loss did not improve from -2347.37466\n",
            "Epoch 233/250\n",
            " - 12s - loss: -2.4545e+03 - kl_acc: -5.9314e-01 - val_loss: -2.3344e+03 - val_kl_acc: -5.9509e-01\n",
            "\n",
            "Epoch 00233: val_loss did not improve from -2347.37466\n",
            "Epoch 234/250\n",
            " - 13s - loss: -2.4549e+03 - kl_acc: -5.9310e-01 - val_loss: -2.3364e+03 - val_kl_acc: -5.9209e-01\n",
            "\n",
            "Epoch 00234: val_loss did not improve from -2347.37466\n",
            "Epoch 235/250\n",
            " - 12s - loss: -2.4550e+03 - kl_acc: -5.9321e-01 - val_loss: -2.3474e+03 - val_kl_acc: -5.9181e-01\n",
            "\n",
            "Epoch 00235: val_loss improved from -2347.37466 to -2347.43640, saving model to /content/model.h5\n",
            "Epoch 236/250\n",
            " - 13s - loss: -2.4557e+03 - kl_acc: -5.9313e-01 - val_loss: -2.3426e+03 - val_kl_acc: -5.9291e-01\n",
            "\n",
            "Epoch 00236: val_loss did not improve from -2347.43640\n",
            "Epoch 237/250\n",
            " - 12s - loss: -2.4555e+03 - kl_acc: -5.9326e-01 - val_loss: -2.3481e+03 - val_kl_acc: -5.9235e-01\n",
            "\n",
            "Epoch 00237: val_loss improved from -2347.43640 to -2348.07458, saving model to /content/model.h5\n",
            "Epoch 238/250\n",
            " - 13s - loss: -2.4564e+03 - kl_acc: -5.9320e-01 - val_loss: -2.3450e+03 - val_kl_acc: -5.9199e-01\n",
            "\n",
            "Epoch 00238: val_loss did not improve from -2348.07458\n",
            "Epoch 239/250\n",
            " - 13s - loss: -2.4562e+03 - kl_acc: -5.9323e-01 - val_loss: -2.3370e+03 - val_kl_acc: -5.9598e-01\n",
            "\n",
            "Epoch 00239: val_loss did not improve from -2348.07458\n",
            "Epoch 240/250\n",
            " - 12s - loss: -2.4563e+03 - kl_acc: -5.9333e-01 - val_loss: -2.3440e+03 - val_kl_acc: -5.9371e-01\n",
            "\n",
            "Epoch 00240: val_loss did not improve from -2348.07458\n",
            "Epoch 241/250\n",
            " - 12s - loss: -2.4567e+03 - kl_acc: -5.9331e-01 - val_loss: -2.3543e+03 - val_kl_acc: -5.9349e-01\n",
            "\n",
            "Epoch 00241: val_loss improved from -2348.07458 to -2354.26454, saving model to /content/model.h5\n",
            "Epoch 242/250\n",
            " - 12s - loss: -2.4573e+03 - kl_acc: -5.9334e-01 - val_loss: -2.3466e+03 - val_kl_acc: -5.9418e-01\n",
            "\n",
            "Epoch 00242: val_loss did not improve from -2354.26454\n",
            "Epoch 243/250\n",
            " - 12s - loss: -2.4571e+03 - kl_acc: -5.9348e-01 - val_loss: -2.3440e+03 - val_kl_acc: -5.9199e-01\n",
            "\n",
            "Epoch 00243: val_loss did not improve from -2354.26454\n",
            "Epoch 244/250\n",
            " - 12s - loss: -2.4571e+03 - kl_acc: -5.9337e-01 - val_loss: -2.3547e+03 - val_kl_acc: -5.9227e-01\n",
            "\n",
            "Epoch 00244: val_loss improved from -2354.26454 to -2354.71780, saving model to /content/model.h5\n",
            "Epoch 245/250\n",
            " - 12s - loss: -2.4581e+03 - kl_acc: -5.9339e-01 - val_loss: -2.3535e+03 - val_kl_acc: -5.9289e-01\n",
            "\n",
            "Epoch 00245: val_loss did not improve from -2354.71780\n",
            "Epoch 246/250\n",
            " - 12s - loss: -2.4583e+03 - kl_acc: -5.9332e-01 - val_loss: -2.3342e+03 - val_kl_acc: -5.9616e-01\n",
            "\n",
            "Epoch 00246: val_loss did not improve from -2354.71780\n",
            "Epoch 247/250\n",
            " - 12s - loss: -2.4584e+03 - kl_acc: -5.9344e-01 - val_loss: -2.3517e+03 - val_kl_acc: -5.9301e-01\n",
            "\n",
            "Epoch 00247: val_loss did not improve from -2354.71780\n",
            "Epoch 248/250\n",
            " - 12s - loss: -2.4588e+03 - kl_acc: -5.9340e-01 - val_loss: -2.3511e+03 - val_kl_acc: -5.9198e-01\n",
            "\n",
            "Epoch 00248: val_loss did not improve from -2354.71780\n",
            "Epoch 249/250\n",
            " - 12s - loss: -2.4588e+03 - kl_acc: -5.9338e-01 - val_loss: -2.3428e+03 - val_kl_acc: -5.9652e-01\n",
            "\n",
            "Epoch 00249: val_loss did not improve from -2354.71780\n",
            "Epoch 250/250\n",
            " - 12s - loss: -2.4593e+03 - kl_acc: -5.9351e-01 - val_loss: -2.3465e+03 - val_kl_acc: -5.9273e-01\n",
            "\n",
            "Epoch 00250: val_loss did not improve from -2354.71780\n"
          ],
          "name": "stdout"
        }
      ]
    },
    {
      "metadata": {
        "id": "bZ1UrMWXYFjM",
        "colab_type": "text"
      },
      "cell_type": "markdown",
      "source": [
        "## Plot the training curves"
      ]
    },
    {
      "metadata": {
        "id": "jMj_3TpwacUY",
        "colab_type": "code",
        "outputId": "abbe3bf5-7ed8-4b9d-bd98-a2fadf26fa0f",
        "colab": {
          "base_uri": "https://localhost:8080/",
          "height": 376
        }
      },
      "cell_type": "code",
      "source": [
        "import sklearn.preprocessing as skprep \n",
        "\n",
        "if history != None:\n",
        "    #plt.plot(history.history['val_loss'])\n",
        "    plt.plot(history.history['val_kl_acc'])\n",
        "    #plt.plot(history.history['val_mean_squared_error'])\n",
        "    plt.title('val loss & kl_loss & mse')\n",
        "    plt.ylabel('loss')\n",
        "    plt.xlabel('epoch')\n",
        "    plt.legend(['val_loss', 'val_kl_acc', 'val_mse'], loc='upper left')\n",
        "    plt.show()\n"
      ],
      "execution_count": 16,
      "outputs": [
        {
          "output_type": "display_data",
          "data": {
            "image/png": "[encoded data removed]",
            "text/plain": [
              "<matplotlib.figure.Figure at 0x7f3c42b9c438>"
            ]
          },
          "metadata": {
            "tags": []
          }
        }
      ]
    },
    {
      "metadata": {
        "id": "xEThXyL4FJXt",
        "colab_type": "text"
      },
      "cell_type": "markdown",
      "source": [
        "# Generating Text From Latent Space"
      ]
    },
    {
      "metadata": {
        "id": "rUF_JCx_FJXu",
        "colab_type": "code",
        "colab": {}
      },
      "cell_type": "code",
      "source": [
        "# Assume sentence is kosher\n",
        "def sent_parse(sentence, mat_shape):\n",
        "    data_concat = []\n",
        "    word_vecs = vectorize_sentence(wordify(sentence))\n",
        "    for x in word_vecs:\n",
        "        data_concat.append(list(itertools.chain.from_iterable(x)))\n",
        "    zero_matr = np.zeros(mat_shape)\n",
        "    zero_matr[0] = np.array(data_concat)\n",
        "    return zero_matr"
      ],
      "execution_count": 0,
      "outputs": []
    },
    {
      "metadata": {
        "id": "boTL4PUTFJXy",
        "colab_type": "code",
        "colab": {}
      },
      "cell_type": "code",
      "source": [
        "# input: original dimension sentence vector\n",
        "# output: text\n",
        "def print_sentence_with_w2v(sent_vect):\n",
        "    word_sent = ''\n",
        "    tocut = sent_vect\n",
        "    for i in range (int(len(sent_vect)/300)):\n",
        "        word_sent += w2v.most_similar(positive=[tocut[:300]], topn=1)[0][0]\n",
        "        word_sent += ' '\n",
        "        tocut = tocut[300:]\n",
        "    print(word_sent)"
      ],
      "execution_count": 0,
      "outputs": []
    },
    {
      "metadata": {
        "id": "QJ7YMvsZFJX0",
        "colab_type": "code",
        "colab": {}
      },
      "cell_type": "code",
      "source": [
        "# input: encoded sentence vector\n",
        "# output: encoded sentence vector in dataset with highest cosine similarity\n",
        "def find_similar_encoding(sent_vect):\n",
        "    all_cosine = []\n",
        "    for sent in sent_encoded:\n",
        "        result = 1 - spatial.distance.cosine(sent_vect, sent)\n",
        "        all_cosine.append(result)\n",
        "    data_array = np.array(all_cosine)\n",
        "    maximum = data_array.argsort()[-3:][::-1][1]\n",
        "    new_vec = sent_encoded[maximum]\n",
        "    return new_vec"
      ],
      "execution_count": 0,
      "outputs": []
    },
    {
      "metadata": {
        "id": "nVV55SEBFJX5",
        "colab_type": "code",
        "colab": {}
      },
      "cell_type": "code",
      "source": [
        "# input: two points, integer n\n",
        "# output: n equidistant points on the line between the input points (inclusive)\n",
        "def shortest_homology(point_one, point_two, num):\n",
        "    dist_vec = point_two - point_one\n",
        "    sample = np.linspace(0, 1, num, endpoint = True)\n",
        "    hom_sample = []\n",
        "    for s in sample:\n",
        "        hom_sample.append(point_one + s * dist_vec)\n",
        "    return hom_sample"
      ],
      "execution_count": 0,
      "outputs": []
    },
    {
      "metadata": {
        "id": "R2CNE5ZdFJX9",
        "colab_type": "code",
        "colab": {}
      },
      "cell_type": "code",
      "source": [
        "# input: two written sentences, VAE batch-size, dimension of VAE input\n",
        "# output: the function embeds the sentences in latent-space, and then prints their generated text representations\n",
        "# along with the text representations of several points in between them\n",
        "def sent_2_sent(sent1,sent2, batch, dim):\n",
        "    a = sent_parse([sent1], (batch,dim))\n",
        "    b = sent_parse([sent2], (batch,dim))\n",
        "    encode_a = encoder.predict(a, batch_size = batch)\n",
        "    encode_b = encoder.predict(b, batch_size = batch)\n",
        "    test_hom = hom_shortest(encode_a[0], encode_b[0], 5)\n",
        "    \n",
        "    for point in test_hom:\n",
        "        p = generator.predict(np.array([point]))[0]\n",
        "        print_sentence(p)"
      ],
      "execution_count": 0,
      "outputs": []
    },
    {
      "metadata": {
        "id": "HsJ8ujOzFJYC",
        "colab_type": "text"
      },
      "cell_type": "markdown",
      "source": [
        "Printing sentences from the training set and comparing them with the original will test whether the custom print function works properly."
      ]
    },
    {
      "metadata": {
        "id": "vlz-dEmZFJYE",
        "colab_type": "code",
        "colab": {
          "base_uri": "https://localhost:8080/",
          "height": 51
        },
        "outputId": "b267709a-bc86-47fa-95c9-60aee807dd59"
      },
      "cell_type": "code",
      "source": [
        "print_sentence_with_w2v(train[1])\n",
        "print_sentence_with_w2v(train[2])"
      ],
      "execution_count": 31,
      "outputs": [
        {
          "output_type": "stream",
          "text": [
            "\n",
            "\n"
          ],
          "name": "stdout"
        }
      ]
    },
    {
      "metadata": {
        "id": "mRX1AVseFJYH",
        "colab_type": "text"
      },
      "cell_type": "markdown",
      "source": [
        "The encoder takes the test set of sentence vectors (concatenanted word vectors) and embeds them into a lower dimensional vector space."
      ]
    },
    {
      "metadata": {
        "id": "kW0gQZFFFJYJ",
        "colab_type": "code",
        "colab": {}
      },
      "cell_type": "code",
      "source": [
        " \n",
        "sent_embedded = vectorize_batch(train[:10000])\n",
        "sent_encoded = encoder.predict(sent_embedded, batch_size = 500)"
      ],
      "execution_count": 0,
      "outputs": []
    },
    {
      "metadata": {
        "id": "YLFu14j-FJYN",
        "colab_type": "text"
      },
      "cell_type": "markdown",
      "source": [
        "The decoder takes the list of latent dimensional encodings from above and turns them back into vectors of their original dimension."
      ]
    },
    {
      "metadata": {
        "id": "ozh2qthcFJYO",
        "colab_type": "code",
        "colab": {}
      },
      "cell_type": "code",
      "source": [
        "sent_decoded = generator.predict(np.array(sent_encoded), batch_size=500)"
      ],
      "execution_count": 0,
      "outputs": []
    },
    {
      "metadata": {
        "id": "c4DkI4kyFJYR",
        "colab_type": "text"
      },
      "cell_type": "markdown",
      "source": [
        "The encoder trained above embeds sentences (concatenated word vetors) into a lower dimensional space. The code below takes two of these lower dimensional sentence representations and finds five points between them. It then uses the trained decoder to project these five points into the higher, original, dimensional space. Finally, it reveals the text represented by the five generated sentence vectors by taking each word vector concatenated inside and finding the text associated with it in the word2vec used during preprocessing."
      ]
    },
    {
      "metadata": {
        "id": "2Rj7JcK3FJYS",
        "colab_type": "code",
        "colab": {
          "base_uri": "https://localhost:8080/",
          "height": 156
        },
        "outputId": "868f7f20-8360-4d5d-a066-337ebe3b8067"
      },
      "cell_type": "code",
      "source": [
        "test_hom = shortest_homology(sent_encoded[3], sent_encoded[10], 5)\n",
        "for point in test_hom:\n",
        "    p = generator.predict(np.array([point]))[0]\n",
        "    print_sentence_with_w2v(p)"
      ],
      "execution_count": 34,
      "outputs": [
        {
          "output_type": "stream",
          "text": [
            "a cow with several hooves in a pulling of animals \n"
          ],
          "name": "stdout"
        },
        {
          "output_type": "stream",
          "text": [
            "/usr/local/lib/python3.6/dist-packages/gensim/matutils.py:737: FutureWarning: Conversion of the second argument of issubdtype from `int` to `np.signedinteger` is deprecated. In future, it will be treated as `np.int64 == np.dtype(int).type`.\n",
            "  if np.issubdtype(vec.dtype, np.int):\n"
          ],
          "name": "stderr"
        },
        {
          "output_type": "stream",
          "text": [
            "a goat with many forearms in a and of animals \n",
            "a dog and that with the the and the animals \n",
            "a little boy looks with a bat in shortstops books \n",
            "a little boy poses with a bat in baseball books \n"
          ],
          "name": "stdout"
        }
      ]
    },
    {
      "metadata": {
        "id": "4F2NqZ-eFJYV",
        "colab_type": "text"
      },
      "cell_type": "markdown",
      "source": [
        "The code below does the same thing, with one important difference. After sampling equidistant points in the latent space between two sentence embeddings, it finds the embeddings from our encoded dataset those points are most similar to. It then prints the text associated with those vectors.\n",
        "  \n",
        "This allows us to explore how the Variational Autoencoder clusters our dataset of sentences in latent space. It lets us investigate whether sentences with similar concepts or grammatical styles are represented in similar areas of the lower dimensional space."
      ]
    },
    {
      "metadata": {
        "id": "z8EXTcpCFJYV",
        "colab_type": "code",
        "colab": {
          "base_uri": "https://localhost:8080/",
          "height": 411
        },
        "outputId": "8f22986d-2886-497a-f2c5-2451794253a2"
      },
      "cell_type": "code",
      "source": [
        "test_hom = shortest_homology(sent_encoded[2], sent_encoded[400], 20)\n",
        "for point in test_hom:\n",
        "    p = generator.predict(np.array([find_similar_encoding(point)]))[0]\n",
        "    print_sentence_with_w2v(p)"
      ],
      "execution_count": 35,
      "outputs": [
        {
          "output_type": "stream",
          "text": [
            "a couple of people are flying kites on the beach \n"
          ],
          "name": "stdout"
        },
        {
          "output_type": "stream",
          "text": [
            "/usr/local/lib/python3.6/dist-packages/gensim/matutils.py:737: FutureWarning: Conversion of the second argument of issubdtype from `int` to `np.signedinteger` is deprecated. In future, it will be treated as `np.int64 == np.dtype(int).type`.\n",
            "  if np.issubdtype(vec.dtype, np.int):\n"
          ],
          "name": "stderr"
        },
        {
          "output_type": "stream",
          "text": [
            "a couple of people are flying kites on the beach \n",
            "a couple of people are flying kites on the beach \n",
            "a couple of people are flying kites on the beach \n",
            "a couple of people are flying kites on the beach \n",
            "a baseball player is swinging a bat and some comebacks \n",
            "a baseball player is swinging a bat and some comebacks \n",
            "a baseball player is swinging a bat and some comebacks \n",
            "a baseball player is swinging a bat and some comebacks \n",
            "a baseball player is swinging a bat and some comebacks \n",
            "a number of people with surf board on a beach \n",
            "a number of people with surf board on a beach \n",
            "a number of people with surf board on a beach \n",
            "a baseball player is holding a bat above his head \n",
            "a baseball player is holding a bat above his head \n",
            "a baseball player is holding a bat above his head \n",
            "a baseball player is holding a bat above his head \n",
            "a baseball player is holding a bat above his head \n",
            "a baseball player is holding a bat above his head \n",
            "a baseball player is holding a bat above his head \n"
          ],
          "name": "stdout"
        }
      ]
    },
    {
      "metadata": {
        "id": "BMtxxG9KeWer",
        "colab_type": "text"
      },
      "cell_type": "markdown",
      "source": [
        "# Visualization"
      ]
    },
    {
      "metadata": {
        "id": "DE1oxAi6msxj",
        "colab_type": "text"
      },
      "cell_type": "markdown",
      "source": [
        "## Plot Original and Variational embeddings\n",
        "First, create a 2D visualization of the embedding space. Use Principal Components Analysis (PCA) to project N-dimensional space to 2 dimensions. PCA creates an n-dimensional rotation that optimizes for the largest standard deviation in column 0, second largest stdev in column 1, and so on. Using the first two columns as X and Y in a scatter plot gives a decent 2D representation of the embedding space."
      ]
    },
    {
      "metadata": {
        "id": "grHr3mRaVYpv",
        "colab_type": "code",
        "colab": {
          "base_uri": "https://localhost:8080/",
          "height": 51
        },
        "outputId": "baed2d8a-0dca-499b-dadc-495fe0520aee"
      },
      "cell_type": "code",
      "source": [
        "pca_orig = PCA(n_components=2)\n",
        "pca_orig.fit(sent_embedded)\n",
        "pca_predict = PCA(n_components=2)\n",
        "pca_predict.fit(sent_encoded)"
      ],
      "execution_count": 36,
      "outputs": [
        {
          "output_type": "execute_result",
          "data": {
            "text/plain": [
              "PCA(copy=True, iterated_power='auto', n_components=2, random_state=None,\n",
              "  svd_solver='auto', tol=0.0, whiten=False)"
            ]
          },
          "metadata": {
            "tags": []
          },
          "execution_count": 36
        }
      ]
    },
    {
      "metadata": {
        "id": "Me4mrC5_VkYv",
        "colab_type": "text"
      },
      "cell_type": "markdown",
      "source": [
        "## Create a small test set of similar sentences, and project via PCA.\n",
        "These sentences are adapted from the famous \"twisty maze of passages\" from the very first text adventure game, \"Adventure\". There are 5 from the original set,  another four that are somewhat varied, and a final outlier."
      ]
    },
    {
      "metadata": {
        "id": "Sqyesg7K9RZm",
        "colab_type": "code",
        "colab": {}
      },
      "cell_type": "code",
      "source": [
        "adventure = [\n",
        "    'you are in a twisty little maze of passages now',\n",
        "    'you are in a twisting maze of little passages now',\n",
        "    'you are in a little twisty maze of passages now',\n",
        "    'you are in a maze of little twisting passages now',\n",
        "    'you are in a maze of little twisty passages now'\n",
        "]\n",
        "freestyle = [\n",
        "    'before you is a twisty maze of passages all different',\n",
        "    'you see now a twisty maze of passages all alike',\n",
        "    'a maze of twisty passages all the same stretches out',\n",
        "    'twisty passages forming a maze stretch in front of you'\n",
        "]\n",
        "more_free = [\n",
        "        'a twisty maze all quite self similar lies before you'\n",
        "]\n",
        "    \n",
        "def predict(sentences):\n",
        "    embeds = []\n",
        "    for sentence in sentences:\n",
        "        v = vectorize_sentence(wordify(sentence))\n",
        "        embeds.append(np.reshape(v, (3000)))\n",
        "    orig = np.array(embeds)\n",
        "    predicted = np.array(encoder.predict(orig, batch_size = 1))\n",
        "    return (orig, predicted)"
      ],
      "execution_count": 0,
      "outputs": []
    },
    {
      "metadata": {
        "id": "OQF-cvLRm81z",
        "colab_type": "code",
        "colab": {
          "base_uri": "https://localhost:8080/",
          "height": 362
        },
        "outputId": "d6e0a33e-4279-4b55-9e19-980519b80cd1"
      },
      "cell_type": "code",
      "source": [
        "\n",
        "f, (ax1, ax2) = plt.subplots(1, 2, sharey=False)\n",
        "ax1.set_title('Original Space')\n",
        "ax2.set_title('VAE Latent Space')\n",
        "#ax1.set(adjustable='box-forced', aspect='equal')\n",
        "#ax2.set(adjustable='box-forced', aspect='equal')\n",
        "(orig, predicted) = predict(adventure)\n",
        "for xy in pca_orig.transform(orig):\n",
        "    ax1.scatter(xy[0], xy[1], color='black')\n",
        "for xy in pca_predict.transform(predicted):\n",
        "    ax2.scatter(xy[0], xy[1], color='black')\n",
        "(orig, predicted) = predict(freestyle)\n",
        "for xy in pca_orig.transform(orig):\n",
        "    ax1.scatter(xy[0], xy[1], color='blue')\n",
        "for xy in pca_predict.transform(predicted):\n",
        "    ax2.scatter(xy[0], xy[1], color='blue')\n",
        "(orig, predicted) = predict(more_free)\n",
        "for xy in pca_orig.transform(orig):\n",
        "    ax1.scatter(xy[0], xy[1], color='green')\n",
        "for xy in pca_predict.transform(predicted):\n",
        "    ax2.scatter(xy[0], xy[1], color='green')\n"
      ],
      "execution_count": 38,
      "outputs": [
        {
          "output_type": "display_data",
          "data": {
            "image/png": "[encoded data removed]",
            "text/plain": [
              "<matplotlib.figure.Figure at 0x7f3c42a77a58>"
            ]
          },
          "metadata": {
            "tags": []
          }
        }
      ]
    },
    {
      "metadata": {
        "id": "hnW4P38b4A3q",
        "colab_type": "text"
      },
      "cell_type": "markdown",
      "source": [
        "In these plots, the sentences from Adventure are in black,  'Freestyle' versions are in blue, and a single green dot is a variation which is slightly more free-spirited."
      ]
    },
    {
      "metadata": {
        "id": "vqoOJ2sqnxA_",
        "colab_type": "text"
      },
      "cell_type": "markdown",
      "source": [
        "## Heatmaps"
      ]
    },
    {
      "metadata": {
        "id": "f-EzqVrAi-z-",
        "colab_type": "code",
        "colab": {}
      },
      "cell_type": "code",
      "source": [
        "def plot_similarity(labels, features, rotation):\n",
        "  corr = np.zeros((len(features), len(features)))\n",
        "  for i in range(len(features)):\n",
        "    for j in range(len(features)):\n",
        "        corr[i][j] = np.sqrt(spatial.distance.cosine(features[i], features[j]))\n",
        "  sns.set(font_scale=1.2)\n",
        "  g = sns.heatmap(\n",
        "      corr,\n",
        "      xticklabels=labels,\n",
        "      yticklabels=labels,\n",
        "      vmin=0.0,\n",
        "      vmax=1.0,\n",
        "      cmap=\"YlOrRd\"\n",
        "  )\n",
        "\n",
        "  g.set_xticklabels(labels, rotation=rotation)\n",
        "  g.set_title(\"Semantic Textual Similarity (cosine distance)\")\n",
        "    \n",
        "misc_text = [\n",
        "    \"a motorcycle badly parked in a very long grass driveway\",\n",
        "    \"my motorcycle is parked on the gravel behind a driveway\",\n",
        "    \"a black motorcycle parked sideways in front of a garage\",\n",
        "    \"a motorcycle with its brake extended standing outside a garage\"\n",
        "]\n"
      ],
      "execution_count": 0,
      "outputs": []
    },
    {
      "metadata": {
        "id": "C5uXy4yEmzft",
        "colab_type": "code",
        "colab": {
          "base_uri": "https://localhost:8080/",
          "height": 690
        },
        "outputId": "014840a2-7636-4ecc-a485-cae455323b89"
      },
      "cell_type": "code",
      "source": [
        "#labels = adventure + freestyle + more_free \n",
        "labels = adventure + more_free + misc_text\n",
        "(orig, predicted) = predict(labels)\n",
        "plot_similarity(labels, orig, 90)"
      ],
      "execution_count": 40,
      "outputs": [
        {
          "output_type": "display_data",
          "data": {
            "image/png": "[encoded data removed]",
            "text/plain": [
              "<matplotlib.figure.Figure at 0x7f3c42a77cf8>"
            ]
          },
          "metadata": {
            "tags": []
          }
        }
      ]
    },
    {
      "metadata": {
        "id": "z7_wEAUM4Qqv",
        "colab_type": "code",
        "colab": {
          "base_uri": "https://localhost:8080/",
          "height": 690
        },
        "outputId": "b37c8f10-12ea-4620-d0d4-2f21c3453687"
      },
      "cell_type": "code",
      "source": [
        "plot_similarity(labels, predicted, 90)"
      ],
      "execution_count": 42,
      "outputs": [
        {
          "output_type": "display_data",
          "data": {
            "image/png": "[encoded data removed]",
            "text/plain": [
              "<matplotlib.figure.Figure at 0x7f3c428cb080>"
            ]
          },
          "metadata": {
            "tags": []
          }
        }
      ]
    },
    {
      "metadata": {
        "id": "s5Ec9sfeI9CT",
        "colab_type": "code",
        "colab": {}
      },
      "cell_type": "code",
      "source": [
        ""
      ],
      "execution_count": 0,
      "outputs": []
    }
  ]
}